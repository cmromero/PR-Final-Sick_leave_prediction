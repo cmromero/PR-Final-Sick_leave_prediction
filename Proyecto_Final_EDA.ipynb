{
 "cells": [
  {
   "cell_type": "markdown",
   "id": "aff4df38",
   "metadata": {},
   "source": [
    "## Importaciones"
   ]
  },
  {
   "cell_type": "code",
   "execution_count": 1,
   "id": "9d46a8ae",
   "metadata": {},
   "outputs": [],
   "source": [
    "import numpy as np\n",
    "import pandas as pd\n",
    "import seaborn as sns\n",
    "import matplotlib.pyplot as plt\n",
    "import datetime \n",
    "import math\n",
    "\n",
    "from statsmodels.tsa.seasonal import seasonal_decompose #descomposición de una serie temporal\n",
    "from statsmodels.tsa.stattools import adfuller \n",
    "from statsmodels.graphics.tsaplots import plot_acf, plot_pacf\n",
    "from statsmodels.tsa.arima_model import ARIMA\n",
    "from statsmodels.tsa.statespace.sarimax import SARIMAX\n",
    "from pmdarima import auto_arima\n",
    "from fbprophet import Prophet\n",
    "from sklearn.metrics import mean_squared_error\n",
    "\n",
    "from ipywidgets import interact\n",
    "import plotly.express as px\n",
    "import ipywidgets as widgets\n",
    "\n",
    "from sodapy import Socrata\n",
    "from pytrends.request import TrendReq\n",
    "#!pip install pytrends"
   ]
  },
  {
   "cell_type": "code",
   "execution_count": 2,
   "id": "31efc73b",
   "metadata": {},
   "outputs": [],
   "source": [
    "df = pd.read_csv('data/DATOS_ANUALES_H7_colectivos.csv', sep=';',encoding='latin1',decimal=\",\")"
   ]
  },
  {
   "cell_type": "markdown",
   "id": "9462dff8",
   "metadata": {},
   "source": [
    "## Contextualizar el dataset"
   ]
  },
  {
   "cell_type": "markdown",
   "id": "fab88e37",
   "metadata": {},
   "source": [
    "Se pretende estimar los días mensuales de baja por incapacidad temporal (IT) calculados en plantilla equivalente.\n",
    "\n",
    "La intención es predecir el coste que supondría cubrir al 100% las bajas laborales cada mes hasta el final de año.\n",
    "\n",
    "Para poder estimar el coste necesitamos dividir nuestros datos en colectivos profesionales porque cada colectivo tiene unas retribuciones particulares marcadas en la tablas retributivas del ICS.\n",
    "\n",
    "Usamos la clasificación de categorias usadas en un proyecto anterior (PR05) y examinamos los contratos formalizados para cubrir bajas por IT:\n",
    "<img src=\"imagenes\\imagen1.png\">\n",
    "Vemos que hay 7 colectivos que cubren sus bajas laborales (descartamos enonces los Residentes)\n",
    "\n",
    "Examinamos el colectivo \"Otros\":\n",
    "<img src=\"imagenes\\imagen2.png\">\n",
    "Vemos que sobretodo se cubren bajas en los subcolectivos de Mantimiento y Hoteleria. Separamos el colectivo Otros en 2 y descartamos los demás.\n",
    "\n",
    "Antes de importar los datos hemos seleccionado sólo aquellos cuya categoria se incluye en uno de estos 8 colectivos."
   ]
  },
  {
   "cell_type": "code",
   "execution_count": 3,
   "id": "2e71af8e",
   "metadata": {},
   "outputs": [
    {
     "name": "stdout",
     "output_type": "stream",
     "text": [
      "<class 'pandas.core.frame.DataFrame'>\n",
      "RangeIndex: 2400 entries, 0 to 2399\n",
      "Data columns (total 7 columns):\n",
      " #   Column                   Non-Null Count  Dtype  \n",
      "---  ------                   --------------  -----  \n",
      " 0   COLECTIVO                2400 non-null   object \n",
      " 1   MES                      2400 non-null   int64  \n",
      " 2   AÑO                      2400 non-null   int64  \n",
      " 3   Festivos_intersemanales  2400 non-null   int64  \n",
      " 4   SumaDePEQ1               2400 non-null   float64\n",
      " 5   SumaDePEQ_IT             2283 non-null   float64\n",
      " 6   EDAD_MEDIA               2400 non-null   float64\n",
      "dtypes: float64(3), int64(3), object(1)\n",
      "memory usage: 131.4+ KB\n"
     ]
    }
   ],
   "source": [
    "df.info()"
   ]
  },
  {
   "cell_type": "markdown",
   "id": "f1eaf686",
   "metadata": {},
   "source": [
    "* Festivos_intersemanales: número de festivos entre semana de un determinado mes.\n",
    "* SumaDePEQ1: número total de trabajadores calculado en plantilla equivalente\n",
    "<img src=\"imagenes\\imagen5.png\">\n",
    "* SumaDePEQ_IT: número total de bajas laborales expresado en plantilla equivalente\n",
    "<img src=\"imagenes\\imagen4.png\">\n",
    "* EDAD_MEDIA: Edad promedio de los trabajadores"
   ]
  },
  {
   "cell_type": "markdown",
   "id": "6def8892",
   "metadata": {},
   "source": [
    "![](img/imagen3.png)"
   ]
  },
  {
   "cell_type": "markdown",
   "id": "fde335f2",
   "metadata": {},
   "source": [
    "## First Cleaning"
   ]
  },
  {
   "cell_type": "code",
   "execution_count": 4,
   "id": "25359039",
   "metadata": {},
   "outputs": [],
   "source": [
    "#Añadimos columna en formato fecha\n",
    "df['date'] = pd.to_datetime(\n",
    "    dict(\n",
    "        year=df['AÑO'], \n",
    "        month=df['MES'], \n",
    "        day=1\n",
    "    )\n",
    ")"
   ]
  },
  {
   "cell_type": "code",
   "execution_count": 5,
   "id": "bad82857",
   "metadata": {},
   "outputs": [],
   "source": [
    "#Limitamos datos a los históricos\n",
    "df = df[(df['date'] < \"2022-03-01\")]"
   ]
  },
  {
   "cell_type": "code",
   "execution_count": 6,
   "id": "1951dfba",
   "metadata": {},
   "outputs": [],
   "source": [
    "#Limitamos datos a los colectivos que cubren sus bajas IT con sustituciones\n",
    "df=df[(df['COLECTIVO']!='Otros')&(df['COLECTIVO']!='Residentes/as')]"
   ]
  },
  {
   "cell_type": "code",
   "execution_count": 7,
   "id": "acd700d5",
   "metadata": {},
   "outputs": [],
   "source": [
    "#Rellenamos valores nulos por 0\n",
    "df=df.fillna(0)\n",
    "\n",
    "#Renombramos columnas\n",
    "df=df.rename(columns={'SumaDePEQ1':'Plantilla','SumaDePEQ_IT':'Plantilla_de_baja','EDAD_MEDIA':'Edad_promedio'})\n",
    "\n",
    "#Ordenamos dataframe por date\n",
    "df=df.sort_values(by=['COLECTIVO','date'])"
   ]
  },
  {
   "cell_type": "code",
   "execution_count": 8,
   "id": "44e25e80",
   "metadata": {},
   "outputs": [
    {
     "name": "stdout",
     "output_type": "stream",
     "text": [
      "<class 'pandas.core.frame.DataFrame'>\n",
      "Int64Index: 1840 entries, 1854 to 1980\n",
      "Data columns (total 8 columns):\n",
      " #   Column                   Non-Null Count  Dtype         \n",
      "---  ------                   --------------  -----         \n",
      " 0   COLECTIVO                1840 non-null   object        \n",
      " 1   MES                      1840 non-null   int64         \n",
      " 2   AÑO                      1840 non-null   int64         \n",
      " 3   Festivos_intersemanales  1840 non-null   int64         \n",
      " 4   Plantilla                1840 non-null   float64       \n",
      " 5   Plantilla_de_baja        1840 non-null   float64       \n",
      " 6   Edad_promedio            1840 non-null   float64       \n",
      " 7   date                     1840 non-null   datetime64[ns]\n",
      "dtypes: datetime64[ns](1), float64(3), int64(3), object(1)\n",
      "memory usage: 129.4+ KB\n"
     ]
    }
   ],
   "source": [
    "#Repaso dataset limpiado\n",
    "df.info()"
   ]
  },
  {
   "cell_type": "code",
   "execution_count": 9,
   "id": "bb7f3ef0",
   "metadata": {},
   "outputs": [
    {
     "data": {
      "text/html": [
       "<div>\n",
       "<style scoped>\n",
       "    .dataframe tbody tr th:only-of-type {\n",
       "        vertical-align: middle;\n",
       "    }\n",
       "\n",
       "    .dataframe tbody tr th {\n",
       "        vertical-align: top;\n",
       "    }\n",
       "\n",
       "    .dataframe thead th {\n",
       "        text-align: right;\n",
       "    }\n",
       "</style>\n",
       "<table border=\"1\" class=\"dataframe\">\n",
       "  <thead>\n",
       "    <tr style=\"text-align: right;\">\n",
       "      <th></th>\n",
       "      <th>COLECTIVO</th>\n",
       "      <th>Plantilla_de_baja</th>\n",
       "      <th>porcentaje_it</th>\n",
       "      <th>coste_medio_mensual</th>\n",
       "      <th>coste_historico_est</th>\n",
       "      <th>porcentaje_coste</th>\n",
       "    </tr>\n",
       "  </thead>\n",
       "  <tbody>\n",
       "    <tr>\n",
       "      <th>0</th>\n",
       "      <td>Administrativos/as</td>\n",
       "      <td>3638.965938</td>\n",
       "      <td>0.110658</td>\n",
       "      <td>1786.87</td>\n",
       "      <td>6.502359e+06</td>\n",
       "      <td>0.096084</td>\n",
       "    </tr>\n",
       "    <tr>\n",
       "      <th>1</th>\n",
       "      <td>Auxiliar de enfermeria</td>\n",
       "      <td>9990.640873</td>\n",
       "      <td>0.303808</td>\n",
       "      <td>1700.11</td>\n",
       "      <td>1.698519e+07</td>\n",
       "      <td>0.250988</td>\n",
       "    </tr>\n",
       "    <tr>\n",
       "      <th>2</th>\n",
       "      <td>Celadores/as</td>\n",
       "      <td>2992.624358</td>\n",
       "      <td>0.091003</td>\n",
       "      <td>1538.21</td>\n",
       "      <td>4.603285e+06</td>\n",
       "      <td>0.068022</td>\n",
       "    </tr>\n",
       "    <tr>\n",
       "      <th>3</th>\n",
       "      <td>Enfermeras/os</td>\n",
       "      <td>11833.607172</td>\n",
       "      <td>0.359851</td>\n",
       "      <td>2513.58</td>\n",
       "      <td>2.974472e+07</td>\n",
       "      <td>0.439534</td>\n",
       "    </tr>\n",
       "    <tr>\n",
       "      <th>4</th>\n",
       "      <td>Facultativos/as</td>\n",
       "      <td>2019.798812</td>\n",
       "      <td>0.061421</td>\n",
       "      <td>2706.50</td>\n",
       "      <td>5.466585e+06</td>\n",
       "      <td>0.080779</td>\n",
       "    </tr>\n",
       "    <tr>\n",
       "      <th>5</th>\n",
       "      <td>Personal Hoteleria</td>\n",
       "      <td>366.723910</td>\n",
       "      <td>0.011152</td>\n",
       "      <td>1539.10</td>\n",
       "      <td>5.644248e+05</td>\n",
       "      <td>0.008340</td>\n",
       "    </tr>\n",
       "    <tr>\n",
       "      <th>6</th>\n",
       "      <td>Personal Mantenimiento</td>\n",
       "      <td>723.779347</td>\n",
       "      <td>0.022010</td>\n",
       "      <td>1681.20</td>\n",
       "      <td>1.216818e+06</td>\n",
       "      <td>0.017981</td>\n",
       "    </tr>\n",
       "    <tr>\n",
       "      <th>7</th>\n",
       "      <td>Técnicos/as especialistas</td>\n",
       "      <td>1318.578999</td>\n",
       "      <td>0.040097</td>\n",
       "      <td>1964.21</td>\n",
       "      <td>2.589966e+06</td>\n",
       "      <td>0.038272</td>\n",
       "    </tr>\n",
       "  </tbody>\n",
       "</table>\n",
       "</div>"
      ],
      "text/plain": [
       "                   COLECTIVO  Plantilla_de_baja  porcentaje_it  \\\n",
       "0         Administrativos/as        3638.965938       0.110658   \n",
       "1     Auxiliar de enfermeria        9990.640873       0.303808   \n",
       "2               Celadores/as        2992.624358       0.091003   \n",
       "3              Enfermeras/os       11833.607172       0.359851   \n",
       "4            Facultativos/as        2019.798812       0.061421   \n",
       "5         Personal Hoteleria         366.723910       0.011152   \n",
       "6     Personal Mantenimiento         723.779347       0.022010   \n",
       "7  Técnicos/as especialistas        1318.578999       0.040097   \n",
       "\n",
       "   coste_medio_mensual  coste_historico_est  porcentaje_coste  \n",
       "0              1786.87         6.502359e+06          0.096084  \n",
       "1              1700.11         1.698519e+07          0.250988  \n",
       "2              1538.21         4.603285e+06          0.068022  \n",
       "3              2513.58         2.974472e+07          0.439534  \n",
       "4              2706.50         5.466585e+06          0.080779  \n",
       "5              1539.10         5.644248e+05          0.008340  \n",
       "6              1681.20         1.216818e+06          0.017981  \n",
       "7              1964.21         2.589966e+06          0.038272  "
      ]
     },
     "execution_count": 9,
     "metadata": {},
     "output_type": "execute_result"
    }
   ],
   "source": [
    "#Calculamos la proporción de bajas en el histórico y la proporción del coste :\n",
    "it_agrupadas=df.groupby(['COLECTIVO'])['Plantilla_de_baja'].sum().reset_index()\n",
    "it_agrupadas['porcentaje_it']=it_agrupadas['Plantilla_de_baja']/it_agrupadas['Plantilla_de_baja'].sum()\n",
    "it_agrupadas['coste_medio_mensual']=[1786.87,1700.11,1538.21,2513.58,2706.5,1539.1,1681.2,1964.21]\n",
    "it_agrupadas['coste_historico_est']=it_agrupadas['Plantilla_de_baja']*it_agrupadas['coste_medio_mensual']\n",
    "it_agrupadas['porcentaje_coste']=it_agrupadas['coste_historico_est']/it_agrupadas['coste_historico_est'].sum()\n",
    "it_agrupadas"
   ]
  },
  {
   "cell_type": "markdown",
   "id": "d3ce545f",
   "metadata": {},
   "source": [
    "## Primera exploración"
   ]
  },
  {
   "cell_type": "code",
   "execution_count": 10,
   "id": "fb49f390",
   "metadata": {},
   "outputs": [
    {
     "data": {
      "text/html": [
       "<div>\n",
       "<style scoped>\n",
       "    .dataframe tbody tr th:only-of-type {\n",
       "        vertical-align: middle;\n",
       "    }\n",
       "\n",
       "    .dataframe tbody tr th {\n",
       "        vertical-align: top;\n",
       "    }\n",
       "\n",
       "    .dataframe thead th {\n",
       "        text-align: right;\n",
       "    }\n",
       "</style>\n",
       "<table border=\"1\" class=\"dataframe\">\n",
       "  <thead>\n",
       "    <tr style=\"text-align: right;\">\n",
       "      <th></th>\n",
       "      <th>COLECTIVO</th>\n",
       "      <th>MES</th>\n",
       "      <th>AÑO</th>\n",
       "      <th>Festivos_intersemanales</th>\n",
       "      <th>Plantilla</th>\n",
       "      <th>Plantilla_de_baja</th>\n",
       "      <th>Edad_promedio</th>\n",
       "      <th>date</th>\n",
       "    </tr>\n",
       "  </thead>\n",
       "  <tbody>\n",
       "    <tr>\n",
       "      <th>1854</th>\n",
       "      <td>Administrativos/as</td>\n",
       "      <td>1</td>\n",
       "      <td>2003</td>\n",
       "      <td>2</td>\n",
       "      <td>218.677419</td>\n",
       "      <td>17.451613</td>\n",
       "      <td>40.739937</td>\n",
       "      <td>2003-01-01</td>\n",
       "    </tr>\n",
       "    <tr>\n",
       "      <th>1855</th>\n",
       "      <td>Administrativos/as</td>\n",
       "      <td>2</td>\n",
       "      <td>2003</td>\n",
       "      <td>1</td>\n",
       "      <td>215.500000</td>\n",
       "      <td>18.928571</td>\n",
       "      <td>41.172224</td>\n",
       "      <td>2003-02-01</td>\n",
       "    </tr>\n",
       "    <tr>\n",
       "      <th>1856</th>\n",
       "      <td>Administrativos/as</td>\n",
       "      <td>3</td>\n",
       "      <td>2003</td>\n",
       "      <td>0</td>\n",
       "      <td>210.129032</td>\n",
       "      <td>14.774194</td>\n",
       "      <td>41.546919</td>\n",
       "      <td>2003-03-01</td>\n",
       "    </tr>\n",
       "    <tr>\n",
       "      <th>1857</th>\n",
       "      <td>Administrativos/as</td>\n",
       "      <td>4</td>\n",
       "      <td>2003</td>\n",
       "      <td>2</td>\n",
       "      <td>208.666667</td>\n",
       "      <td>15.566667</td>\n",
       "      <td>41.573832</td>\n",
       "      <td>2003-04-01</td>\n",
       "    </tr>\n",
       "    <tr>\n",
       "      <th>1858</th>\n",
       "      <td>Administrativos/as</td>\n",
       "      <td>5</td>\n",
       "      <td>2003</td>\n",
       "      <td>1</td>\n",
       "      <td>206.709677</td>\n",
       "      <td>15.387097</td>\n",
       "      <td>41.891405</td>\n",
       "      <td>2003-05-01</td>\n",
       "    </tr>\n",
       "    <tr>\n",
       "      <th>...</th>\n",
       "      <td>...</td>\n",
       "      <td>...</td>\n",
       "      <td>...</td>\n",
       "      <td>...</td>\n",
       "      <td>...</td>\n",
       "      <td>...</td>\n",
       "      <td>...</td>\n",
       "      <td>...</td>\n",
       "    </tr>\n",
       "    <tr>\n",
       "      <th>1774</th>\n",
       "      <td>Técnicos/as especialistas</td>\n",
       "      <td>10</td>\n",
       "      <td>2021</td>\n",
       "      <td>1</td>\n",
       "      <td>242.015806</td>\n",
       "      <td>7.402903</td>\n",
       "      <td>36.008631</td>\n",
       "      <td>2021-10-01</td>\n",
       "    </tr>\n",
       "    <tr>\n",
       "      <th>1775</th>\n",
       "      <td>Técnicos/as especialistas</td>\n",
       "      <td>11</td>\n",
       "      <td>2021</td>\n",
       "      <td>1</td>\n",
       "      <td>238.659000</td>\n",
       "      <td>8.887667</td>\n",
       "      <td>36.184764</td>\n",
       "      <td>2021-11-01</td>\n",
       "    </tr>\n",
       "    <tr>\n",
       "      <th>1776</th>\n",
       "      <td>Técnicos/as especialistas</td>\n",
       "      <td>12</td>\n",
       "      <td>2021</td>\n",
       "      <td>2</td>\n",
       "      <td>251.188710</td>\n",
       "      <td>15.032258</td>\n",
       "      <td>36.217030</td>\n",
       "      <td>2021-12-01</td>\n",
       "    </tr>\n",
       "    <tr>\n",
       "      <th>1979</th>\n",
       "      <td>Técnicos/as especialistas</td>\n",
       "      <td>1</td>\n",
       "      <td>2022</td>\n",
       "      <td>1</td>\n",
       "      <td>262.640000</td>\n",
       "      <td>18.152581</td>\n",
       "      <td>36.146238</td>\n",
       "      <td>2022-01-01</td>\n",
       "    </tr>\n",
       "    <tr>\n",
       "      <th>1980</th>\n",
       "      <td>Técnicos/as especialistas</td>\n",
       "      <td>2</td>\n",
       "      <td>2022</td>\n",
       "      <td>1</td>\n",
       "      <td>266.051429</td>\n",
       "      <td>11.289286</td>\n",
       "      <td>36.126819</td>\n",
       "      <td>2022-02-01</td>\n",
       "    </tr>\n",
       "  </tbody>\n",
       "</table>\n",
       "<p>1840 rows × 8 columns</p>\n",
       "</div>"
      ],
      "text/plain": [
       "                      COLECTIVO  MES   AÑO  Festivos_intersemanales  \\\n",
       "1854         Administrativos/as    1  2003                        2   \n",
       "1855         Administrativos/as    2  2003                        1   \n",
       "1856         Administrativos/as    3  2003                        0   \n",
       "1857         Administrativos/as    4  2003                        2   \n",
       "1858         Administrativos/as    5  2003                        1   \n",
       "...                         ...  ...   ...                      ...   \n",
       "1774  Técnicos/as especialistas   10  2021                        1   \n",
       "1775  Técnicos/as especialistas   11  2021                        1   \n",
       "1776  Técnicos/as especialistas   12  2021                        2   \n",
       "1979  Técnicos/as especialistas    1  2022                        1   \n",
       "1980  Técnicos/as especialistas    2  2022                        1   \n",
       "\n",
       "       Plantilla  Plantilla_de_baja  Edad_promedio       date  \n",
       "1854  218.677419          17.451613      40.739937 2003-01-01  \n",
       "1855  215.500000          18.928571      41.172224 2003-02-01  \n",
       "1856  210.129032          14.774194      41.546919 2003-03-01  \n",
       "1857  208.666667          15.566667      41.573832 2003-04-01  \n",
       "1858  206.709677          15.387097      41.891405 2003-05-01  \n",
       "...          ...                ...            ...        ...  \n",
       "1774  242.015806           7.402903      36.008631 2021-10-01  \n",
       "1775  238.659000           8.887667      36.184764 2021-11-01  \n",
       "1776  251.188710          15.032258      36.217030 2021-12-01  \n",
       "1979  262.640000          18.152581      36.146238 2022-01-01  \n",
       "1980  266.051429          11.289286      36.126819 2022-02-01  \n",
       "\n",
       "[1840 rows x 8 columns]"
      ]
     },
     "execution_count": 10,
     "metadata": {},
     "output_type": "execute_result"
    }
   ],
   "source": [
    "df"
   ]
  },
  {
   "cell_type": "code",
   "execution_count": 11,
   "id": "aab6c2ea",
   "metadata": {},
   "outputs": [],
   "source": [
    "from cycler import cycler\n",
    "colors= cycler(color=['#44c5c8', '#67d1d3', '#8ddcde', '#baeaea', '#ebf9f9','#434343'])\n",
    "plt.rcParams['axes.prop_cycle'] =colors"
   ]
  },
  {
   "cell_type": "code",
   "execution_count": 12,
   "id": "89275e6e",
   "metadata": {},
   "outputs": [
    {
     "data": {
      "text/plain": [
       "<AxesSubplot:xlabel='date'>"
      ]
     },
     "execution_count": 12,
     "metadata": {},
     "output_type": "execute_result"
    },
    {
     "data": {
      "image/png": "[encoded data removed]",
      "text/plain": [
       "<Figure size 864x360 with 1 Axes>"
      ]
     },
     "metadata": {
      "needs_background": "light"
     },
     "output_type": "display_data"
    }
   ],
   "source": [
    "plt.rcParams['figure.figsize']=(12,5)\n",
    "df[df['COLECTIVO']=='Enfermeras/os'].plot(x='date',y='Plantilla_de_baja',kind = 'line',legend=False)\n"
   ]
  },
  {
   "cell_type": "code",
   "execution_count": 45,
   "id": "46277bb2",
   "metadata": {},
   "outputs": [
    {
     "data": {
      "text/plain": [
       "<AxesSubplot:xlabel='date'>"
      ]
     },
     "execution_count": 45,
     "metadata": {},
     "output_type": "execute_result"
    },
    {
     "data": {
      "image/png": "[encoded data removed]",
      "text/plain": [
       "<Figure size 864x360 with 1 Axes>"
      ]
     },
     "metadata": {
      "needs_background": "light"
     },
     "output_type": "display_data"
    }
   ],
   "source": [
    "colors= cycler(color=['#434343'])\n",
    "plt.rcParams['axes.prop_cycle'] =colors\n",
    "plt.rcParams['figure.figsize']=(12,5)\n",
    "df[df['COLECTIVO']=='Enfermeras/os'].plot(x='date',y='Plantilla',kind = 'line')"
   ]
  },
  {
   "cell_type": "code",
   "execution_count": 13,
   "id": "3a7e86b0",
   "metadata": {},
   "outputs": [
    {
     "data": {
      "application/vnd.jupyter.widget-view+json": {
       "model_id": "cd9ad84294ff417787e7bfe1d99805b0",
       "version_major": 2,
       "version_minor": 0
      },
      "text/plain": [
       "interactive(children=(Dropdown(description='Colectivo', options=('Administrativos/as', 'Auxiliar de enfermeria…"
      ]
     },
     "metadata": {},
     "output_type": "display_data"
    }
   ],
   "source": [
    "#Gráfico interactivo para comparar la evolución temporal de las diferentes variables\n",
    "@interact(Colectivo=df['COLECTIVO'].unique().tolist(),Variable_Y=['Plantilla_de_baja', 'Plantilla',\n",
    "       'Edad_promedio','Festivos_intersemanales'],Variable_X=['Plantilla', 'Plantilla_de_baja',\n",
    "       'Edad_promedio','Festivos_intersemanales'])\n",
    "def lineplot(Colectivo,Variable_Y,Variable_X):\n",
    "    display(px.line(df[df['COLECTIVO']==Colectivo], x='date',y=[Variable_Y,Variable_X],title=f'{Variable_Y} y {Variable_X} de {Colectivo}'))"
   ]
  },
  {
   "cell_type": "code",
   "execution_count": 14,
   "id": "cd39663d",
   "metadata": {},
   "outputs": [
    {
     "data": {
      "text/plain": [
       "'\\nAparentemente no existe una correlación entre crecimiento de absentismo por IT y crecimiento de plantilla.\\nTampoco se observa correlación clara entre crecimiento de absentismo por IT y crecimiento de edad promedio.\\nSe observa correlación negativa entre crecimiento de plantilla y crecimiento de edad promedio.\\n'"
      ]
     },
     "execution_count": 14,
     "metadata": {},
     "output_type": "execute_result"
    }
   ],
   "source": [
    "#Conclusiones\n",
    "'''\n",
    "Aparentemente no existe una correlación entre crecimiento de absentismo por IT y crecimiento de plantilla.\n",
    "Tampoco se observa correlación clara entre crecimiento de absentismo por IT y crecimiento de edad promedio.\n",
    "Se observa correlación negativa entre crecimiento de plantilla y crecimiento de edad promedio.\n",
    "'''"
   ]
  },
  {
   "cell_type": "markdown",
   "id": "f7b75926",
   "metadata": {},
   "source": [
    "## Añadir nuevas variables"
   ]
  },
  {
   "cell_type": "markdown",
   "id": "b3a81067",
   "metadata": {},
   "source": [
    "### Datos de incidencia COVID en Área de Salud de Badalona"
   ]
  },
  {
   "cell_type": "code",
   "execution_count": 15,
   "id": "47f906d9",
   "metadata": {},
   "outputs": [
    {
     "name": "stdout",
     "output_type": "stream",
     "text": [
      "<class 'pandas.core.frame.DataFrame'>\n",
      "RangeIndex: 59164 entries, 0 to 59163\n",
      "Data columns (total 11 columns):\n",
      " #   Column                    Non-Null Count  Dtype \n",
      "---  ------                    --------------  ----- \n",
      " 0   data                      59164 non-null  object\n",
      " 1   regiosanitariacodi        59164 non-null  object\n",
      " 2   regiosanitariadescripcio  59164 non-null  object\n",
      " 3   sectorsanitaricodi        59164 non-null  object\n",
      " 4   sectorsanitaridescripcio  59164 non-null  object\n",
      " 5   abscodi                   59164 non-null  object\n",
      " 6   absdescripcio             59164 non-null  object\n",
      " 7   sexecodi                  59164 non-null  object\n",
      " 8   sexedescripcio            59164 non-null  object\n",
      " 9   resultatcoviddescripcio   59164 non-null  object\n",
      " 10  numcasos                  59164 non-null  object\n",
      "dtypes: object(11)\n",
      "memory usage: 5.0+ MB\n"
     ]
    },
    {
     "data": {
      "text/plain": [
       "'Se debe transformar el campo \"data\" a un campo válido de fecha'"
      ]
     },
     "execution_count": 15,
     "metadata": {},
     "output_type": "execute_result"
    }
   ],
   "source": [
    "#Accedo a la información con método Socrata y parámetros:\n",
    "with open('./token.txt') as f: #Añadir txt en el repositorio con su token de socrata\n",
    "    token=f.read()\n",
    "with open('./password_api.txt') as f: #Añadir txt en el repositorio con su contraseña de socrata\n",
    "    password_api=f.read()  \n",
    "\n",
    "client = Socrata(\"analisi.transparenciacatalunya.cat\",\n",
    "                  token,\n",
    "                  username=\"carlosrsir@gmail.com\", #ponga aquí su username\n",
    "                  password=password_api)\n",
    " \n",
    "\n",
    "#Utilizo el método de Socrata client.get y amplio el límite a 100000 registros \n",
    "#Filtro por sector sanitario que agrupa los alrededores de Badalona\n",
    "results = client.get(\"xuwf-dxjd\",order='data DESC',limit=100000,where='sectorsanitaricodi=\"7867\"')\n",
    "#Obtengo un json llamado “results” y lo transformo en df\n",
    "covid_abs_badalona=pd.json_normalize(results)\n",
    "covid_abs_badalona.info()\n",
    "'''Se debe transformar el campo \"data\" a un campo válido de fecha'''"
   ]
  },
  {
   "cell_type": "code",
   "execution_count": 16,
   "id": "1b1ee84b",
   "metadata": {},
   "outputs": [
    {
     "name": "stdout",
     "output_type": "stream",
     "text": [
      "<class 'pandas.core.frame.DataFrame'>\n",
      "RangeIndex: 59164 entries, 0 to 59163\n",
      "Data columns (total 13 columns):\n",
      " #   Column                    Non-Null Count  Dtype         \n",
      "---  ------                    --------------  -----         \n",
      " 0   data                      59164 non-null  datetime64[ns]\n",
      " 1   regiosanitariacodi        59164 non-null  object        \n",
      " 2   regiosanitariadescripcio  59164 non-null  object        \n",
      " 3   sectorsanitaricodi        59164 non-null  object        \n",
      " 4   sectorsanitaridescripcio  59164 non-null  object        \n",
      " 5   abscodi                   59164 non-null  object        \n",
      " 6   absdescripcio             59164 non-null  object        \n",
      " 7   sexecodi                  59164 non-null  object        \n",
      " 8   sexedescripcio            59164 non-null  object        \n",
      " 9   resultatcoviddescripcio   59164 non-null  object        \n",
      " 10  numcasos                  59164 non-null  int32         \n",
      " 11  año                       59164 non-null  int64         \n",
      " 12  mes                       59164 non-null  int64         \n",
      "dtypes: datetime64[ns](1), int32(1), int64(2), object(9)\n",
      "memory usage: 5.6+ MB\n"
     ]
    }
   ],
   "source": [
    "#transformo los datos que luego usaré\n",
    "covid_abs_badalona['data']=pd.to_datetime(covid_abs_badalona['data'])\n",
    "covid_abs_badalona['numcasos']=covid_abs_badalona['numcasos'].astype('int')\n",
    "covid_abs_badalona['año']=pd.DatetimeIndex(covid_abs_badalona['data']).year\n",
    "covid_abs_badalona['mes']=pd.DatetimeIndex(covid_abs_badalona['data']).month\n",
    "covid_abs_badalona.info()"
   ]
  },
  {
   "cell_type": "code",
   "execution_count": 17,
   "id": "4fba4960",
   "metadata": {},
   "outputs": [
    {
     "data": {
      "text/html": [
       "<div>\n",
       "<style scoped>\n",
       "    .dataframe tbody tr th:only-of-type {\n",
       "        vertical-align: middle;\n",
       "    }\n",
       "\n",
       "    .dataframe tbody tr th {\n",
       "        vertical-align: top;\n",
       "    }\n",
       "\n",
       "    .dataframe thead th {\n",
       "        text-align: right;\n",
       "    }\n",
       "</style>\n",
       "<table border=\"1\" class=\"dataframe\">\n",
       "  <thead>\n",
       "    <tr style=\"text-align: right;\">\n",
       "      <th></th>\n",
       "      <th>año</th>\n",
       "      <th>mes</th>\n",
       "      <th>numcasos</th>\n",
       "    </tr>\n",
       "  </thead>\n",
       "  <tbody>\n",
       "    <tr>\n",
       "      <th>20</th>\n",
       "      <td>2021</td>\n",
       "      <td>11</td>\n",
       "      <td>2707</td>\n",
       "    </tr>\n",
       "    <tr>\n",
       "      <th>21</th>\n",
       "      <td>2021</td>\n",
       "      <td>12</td>\n",
       "      <td>26454</td>\n",
       "    </tr>\n",
       "    <tr>\n",
       "      <th>22</th>\n",
       "      <td>2022</td>\n",
       "      <td>1</td>\n",
       "      <td>77920</td>\n",
       "    </tr>\n",
       "    <tr>\n",
       "      <th>23</th>\n",
       "      <td>2022</td>\n",
       "      <td>2</td>\n",
       "      <td>14795</td>\n",
       "    </tr>\n",
       "    <tr>\n",
       "      <th>24</th>\n",
       "      <td>2022</td>\n",
       "      <td>3</td>\n",
       "      <td>5448</td>\n",
       "    </tr>\n",
       "  </tbody>\n",
       "</table>\n",
       "</div>"
      ],
      "text/plain": [
       "     año  mes  numcasos\n",
       "20  2021   11      2707\n",
       "21  2021   12     26454\n",
       "22  2022    1     77920\n",
       "23  2022    2     14795\n",
       "24  2022    3      5448"
      ]
     },
     "execution_count": 17,
     "metadata": {},
     "output_type": "execute_result"
    }
   ],
   "source": [
    "#filtramos dataset con sólo los datos que nos interesa:\n",
    "df_covid=covid_abs_badalona.groupby(['año','mes'])['numcasos'].sum().reset_index()\n",
    "#echamos un vistazo:\n",
    "df_covid.tail()"
   ]
  },
  {
   "cell_type": "code",
   "execution_count": 18,
   "id": "bb522448",
   "metadata": {},
   "outputs": [],
   "source": [
    "# Fusionamos viejo dataset con nuevo dataset:\n",
    "df=df.rename(columns={\"MES\": \"mes\", \"AÑO\": \"año\"})\n",
    "df=df.merge(df_covid,left_on=['mes','año'],right_on=['mes','año'],how='left')\n",
    "df=df.rename(columns={'numcasos':'casos_covid'})"
   ]
  },
  {
   "cell_type": "code",
   "execution_count": 19,
   "id": "1df0c233",
   "metadata": {},
   "outputs": [
    {
     "data": {
      "text/html": [
       "<div>\n",
       "<style scoped>\n",
       "    .dataframe tbody tr th:only-of-type {\n",
       "        vertical-align: middle;\n",
       "    }\n",
       "\n",
       "    .dataframe tbody tr th {\n",
       "        vertical-align: top;\n",
       "    }\n",
       "\n",
       "    .dataframe thead th {\n",
       "        text-align: right;\n",
       "    }\n",
       "</style>\n",
       "<table border=\"1\" class=\"dataframe\">\n",
       "  <thead>\n",
       "    <tr style=\"text-align: right;\">\n",
       "      <th></th>\n",
       "      <th>COLECTIVO</th>\n",
       "      <th>mes</th>\n",
       "      <th>año</th>\n",
       "      <th>Festivos_intersemanales</th>\n",
       "      <th>Plantilla</th>\n",
       "      <th>Plantilla_de_baja</th>\n",
       "      <th>Edad_promedio</th>\n",
       "      <th>date</th>\n",
       "      <th>casos_covid</th>\n",
       "    </tr>\n",
       "  </thead>\n",
       "  <tbody>\n",
       "    <tr>\n",
       "      <th>0</th>\n",
       "      <td>Administrativos/as</td>\n",
       "      <td>1</td>\n",
       "      <td>2003</td>\n",
       "      <td>2</td>\n",
       "      <td>218.677419</td>\n",
       "      <td>17.451613</td>\n",
       "      <td>40.739937</td>\n",
       "      <td>2003-01-01</td>\n",
       "      <td>0.0</td>\n",
       "    </tr>\n",
       "    <tr>\n",
       "      <th>1</th>\n",
       "      <td>Administrativos/as</td>\n",
       "      <td>2</td>\n",
       "      <td>2003</td>\n",
       "      <td>1</td>\n",
       "      <td>215.500000</td>\n",
       "      <td>18.928571</td>\n",
       "      <td>41.172224</td>\n",
       "      <td>2003-02-01</td>\n",
       "      <td>0.0</td>\n",
       "    </tr>\n",
       "    <tr>\n",
       "      <th>2</th>\n",
       "      <td>Administrativos/as</td>\n",
       "      <td>3</td>\n",
       "      <td>2003</td>\n",
       "      <td>0</td>\n",
       "      <td>210.129032</td>\n",
       "      <td>14.774194</td>\n",
       "      <td>41.546919</td>\n",
       "      <td>2003-03-01</td>\n",
       "      <td>0.0</td>\n",
       "    </tr>\n",
       "    <tr>\n",
       "      <th>3</th>\n",
       "      <td>Administrativos/as</td>\n",
       "      <td>4</td>\n",
       "      <td>2003</td>\n",
       "      <td>2</td>\n",
       "      <td>208.666667</td>\n",
       "      <td>15.566667</td>\n",
       "      <td>41.573832</td>\n",
       "      <td>2003-04-01</td>\n",
       "      <td>0.0</td>\n",
       "    </tr>\n",
       "    <tr>\n",
       "      <th>4</th>\n",
       "      <td>Administrativos/as</td>\n",
       "      <td>5</td>\n",
       "      <td>2003</td>\n",
       "      <td>1</td>\n",
       "      <td>206.709677</td>\n",
       "      <td>15.387097</td>\n",
       "      <td>41.891405</td>\n",
       "      <td>2003-05-01</td>\n",
       "      <td>0.0</td>\n",
       "    </tr>\n",
       "  </tbody>\n",
       "</table>\n",
       "</div>"
      ],
      "text/plain": [
       "            COLECTIVO  mes   año  Festivos_intersemanales   Plantilla  \\\n",
       "0  Administrativos/as    1  2003                        2  218.677419   \n",
       "1  Administrativos/as    2  2003                        1  215.500000   \n",
       "2  Administrativos/as    3  2003                        0  210.129032   \n",
       "3  Administrativos/as    4  2003                        2  208.666667   \n",
       "4  Administrativos/as    5  2003                        1  206.709677   \n",
       "\n",
       "   Plantilla_de_baja  Edad_promedio       date  casos_covid  \n",
       "0          17.451613      40.739937 2003-01-01          0.0  \n",
       "1          18.928571      41.172224 2003-02-01          0.0  \n",
       "2          14.774194      41.546919 2003-03-01          0.0  \n",
       "3          15.566667      41.573832 2003-04-01          0.0  \n",
       "4          15.387097      41.891405 2003-05-01          0.0  "
      ]
     },
     "execution_count": 19,
     "metadata": {},
     "output_type": "execute_result"
    }
   ],
   "source": [
    "#Rellenamos valores nulos por 0\n",
    "df=df.fillna(0)\n",
    "df.head()"
   ]
  },
  {
   "cell_type": "markdown",
   "id": "bb976ba8",
   "metadata": {},
   "source": [
    "### Datos GoogleTrends"
   ]
  },
  {
   "cell_type": "code",
   "execution_count": 20,
   "id": "cdc36546",
   "metadata": {},
   "outputs": [],
   "source": [
    "pytrend = TrendReq()"
   ]
  },
  {
   "cell_type": "code",
   "execution_count": 21,
   "id": "b8ee3138",
   "metadata": {},
   "outputs": [
    {
     "name": "stdout",
     "output_type": "stream",
     "text": [
      "The request failed: Google returned a response with code 500.\n"
     ]
    }
   ],
   "source": [
    "#provide your search terms\n",
    "kw_list=['gripe sintomas','gripe','grip','sintomas gripe']\n",
    "#kw_list=['Gripe','Grip','Síntomas Gripe','Baja médica','Baixa laboral']\n",
    "#search interest per region\n",
    "trend=pytrend.get_historical_interest(kw_list,year_start=2004, month_start=1,day_start=1,year_end=2022, month_end=2,day_end=28, geo='ES-CT',frequency='daily', sleep=0)\n",
    "trend=trend.reset_index()\n",
    "trend['año']=pd.DatetimeIndex(trend['date']).year\n",
    "trend['mes']=pd.DatetimeIndex(trend['date']).month\n",
    "\n",
    "#Ahora haríamos un groupby para sacar las medias del mes y sumariamos los valores medios mensuales de los 5 términos de busqueda"
   ]
  },
  {
   "cell_type": "code",
   "execution_count": 22,
   "id": "ba98d7e0",
   "metadata": {},
   "outputs": [
    {
     "name": "stdout",
     "output_type": "stream",
     "text": [
      "<class 'pandas.core.frame.DataFrame'>\n",
      "RangeIndex: 6409 entries, 0 to 6408\n",
      "Data columns (total 8 columns):\n",
      " #   Column          Non-Null Count  Dtype         \n",
      "---  ------          --------------  -----         \n",
      " 0   date            6409 non-null   datetime64[ns]\n",
      " 1   gripe sintomas  6409 non-null   int32         \n",
      " 2   gripe           6409 non-null   int32         \n",
      " 3   grip            6409 non-null   int32         \n",
      " 4   sintomas gripe  6409 non-null   int32         \n",
      " 5   isPartial       6409 non-null   bool          \n",
      " 6   año             6409 non-null   int64         \n",
      " 7   mes             6409 non-null   int64         \n",
      "dtypes: bool(1), datetime64[ns](1), int32(4), int64(2)\n",
      "memory usage: 256.7 KB\n"
     ]
    }
   ],
   "source": [
    "trend.info()"
   ]
  },
  {
   "cell_type": "code",
   "execution_count": 23,
   "id": "db59d498",
   "metadata": {},
   "outputs": [
    {
     "data": {
      "text/plain": [
       "'Se observa que desde octubre de 2005 los datos cambian. Podemos hacer una interpolación de los datos de 2003, 2004 y 2005'"
      ]
     },
     "execution_count": 23,
     "metadata": {},
     "output_type": "execute_result"
    },
    {
     "data": {
      "image/png": "[encoded data removed]",
      "text/plain": [
       "<Figure size 864x360 with 1 Axes>"
      ]
     },
     "metadata": {
      "needs_background": "light"
     },
     "output_type": "display_data"
    }
   ],
   "source": [
    "df_googletrends=trend.groupby(['año','mes'])[kw_list].mean().reset_index()\n",
    "#df_googletrends=trend.groupby(['año','mes'])['Gripe','Grip','Baja laboral','Baja médica','Baixa laboral'].mean().reset_index()\n",
    "df_googletrends['Total']=df_googletrends.drop(['año','mes'],axis=1).sum(axis=1)\n",
    "df_googletrends['date']=pd.to_datetime(dict(year=df_googletrends['año'],month=df_googletrends['mes'],day=1))\n",
    "#df_googletrends\n",
    "plt.rcParams['figure.figsize']=(12,5)\n",
    "df_googletrends.plot(x ='date', y='Total', kind = 'line')\n",
    "\n",
    "'''Se observa que desde octubre de 2005 los datos cambian. Podemos hacer una interpolación de los datos de 2003, 2004 y 2005'''"
   ]
  },
  {
   "cell_type": "code",
   "execution_count": 24,
   "id": "ca33b902",
   "metadata": {},
   "outputs": [],
   "source": [
    "df_googletrends=df_googletrends[df_googletrends['date']>'2005-09-01']"
   ]
  },
  {
   "cell_type": "code",
   "execution_count": 25,
   "id": "6c7afed2",
   "metadata": {},
   "outputs": [
    {
     "name": "stderr",
     "output_type": "stream",
     "text": [
      "<ipython-input-25-0fc7b7b83a16>:5: SettingWithCopyWarning:\n",
      "\n",
      "\n",
      "A value is trying to be set on a copy of a slice from a DataFrame.\n",
      "Try using .loc[row_indexer,col_indexer] = value instead\n",
      "\n",
      "See the caveats in the documentation: https://pandas.pydata.org/pandas-docs/stable/user_guide/indexing.html#returning-a-view-versus-a-copy\n",
      "\n"
     ]
    },
    {
     "data": {
      "text/plain": [
       "<AxesSubplot:xlabel='date'>"
      ]
     },
     "execution_count": 25,
     "metadata": {},
     "output_type": "execute_result"
    },
    {
     "data": {
      "image/png": "[encoded data removed]",
      "text/plain": [
       "<Figure size 864x360 with 1 Axes>"
      ]
     },
     "metadata": {
      "needs_background": "light"
     },
     "output_type": "display_data"
    }
   ],
   "source": [
    "#interpolamos datos 2003,2004 y 2005 a partir de periodo 2006-2008\n",
    "#2005\n",
    "datos_interpolados=df_googletrends[(df_googletrends['año']>2005)&(df_googletrends['año']<2009)].groupby('mes')['Total'].mean().to_frame().reset_index()\n",
    "datos_interpolados_2005=datos_interpolados[datos_interpolados['mes']<10]\n",
    "datos_interpolados_2005['año']=2005\n",
    "df_googletrends=pd.concat([df_googletrends,datos_interpolados_2005],axis=0)\n",
    "#df_googletrends.merge(datos_interpolados_2005,left_on=['mes','año','Total'],right_on=['mes','año','Total'],how='left')\n",
    "#2004\n",
    "datos_interpolados=df_googletrends[(df_googletrends['año']>2004)&(df_googletrends['año']<2009)].groupby('mes')['Total'].mean().to_frame().reset_index()\n",
    "datos_interpolados_2004=datos_interpolados\n",
    "datos_interpolados_2004['año']=2004\n",
    "df_googletrends=pd.concat([df_googletrends,datos_interpolados_2004],axis=0)\n",
    "#2003\n",
    "datos_interpolados=df_googletrends[(df_googletrends['año']>2003)&(df_googletrends['año']<2009)].groupby('mes')['Total'].mean().to_frame().reset_index()\n",
    "datos_interpolados_2003=datos_interpolados\n",
    "datos_interpolados_2003['año']=2003\n",
    "df_googletrends=pd.concat([df_googletrends,datos_interpolados_2003],axis=0)\n",
    "df_googletrends['date']=pd.to_datetime(dict(year=df_googletrends['año'],month=df_googletrends['mes'],day=1))\n",
    "df_googletrends.plot(x ='date', y='Total', kind = 'line')"
   ]
  },
  {
   "cell_type": "code",
   "execution_count": 26,
   "id": "2f8c823d",
   "metadata": {},
   "outputs": [],
   "source": [
    "# Fusionamos viejo dataset con nuevos datasets:\n",
    "df_googletrends=df_googletrends[['date','Total']].rename(columns={'Total':'busquedas_google'})\n",
    "df=df.merge(df_googletrends,left_on=['date'],right_on=['date'],how='left')\n"
   ]
  },
  {
   "cell_type": "markdown",
   "id": "15748c45",
   "metadata": {},
   "source": [
    "### Cambio normativa bajas laborales"
   ]
  },
  {
   "cell_type": "code",
   "execution_count": 27,
   "id": "f18838ba",
   "metadata": {},
   "outputs": [],
   "source": [
    "#Añadimos años de cambio de normativa\n",
    "df['cambio_normativa'] = np.where((df['date'] > \"2012-09-01\")&(df['date'] < \"2018-11-01\"), 1, 0)"
   ]
  },
  {
   "cell_type": "markdown",
   "id": "36849f74",
   "metadata": {},
   "source": [
    "## Segunda exploración"
   ]
  },
  {
   "cell_type": "code",
   "execution_count": 28,
   "id": "1b0f0bb0",
   "metadata": {
    "code_folding": []
   },
   "outputs": [
    {
     "data": {
      "application/vnd.jupyter.widget-view+json": {
       "model_id": "9be220e6a1e644cd800f8d0c6fa82f10",
       "version_major": 2,
       "version_minor": 0
      },
      "text/plain": [
       "interactive(children=(Dropdown(description='Colectivo', options=('Administrativos/as', 'Auxiliar de enfermeria…"
      ]
     },
     "metadata": {},
     "output_type": "display_data"
    },
    {
     "data": {
      "text/plain": [
       "'Se observa correlación entre Plantilla & Plantilla de Baja y Edad & Plantilla y Plantilla de Baja\\nNo se puede ver la correlación COVID & Plantilla de baja porque no está limitado el df a la pandemia'"
      ]
     },
     "execution_count": 28,
     "metadata": {},
     "output_type": "execute_result"
    }
   ],
   "source": [
    "#Hacerlo interactivo\n",
    "@interact(Colectivo=df['COLECTIVO'].unique().tolist())\n",
    "def pairplot(Colectivo):\n",
    "    display(sns.pairplot(data=df[df.COLECTIVO==Colectivo][['Plantilla','Plantilla_de_baja','Edad_promedio','Festivos_intersemanales',\n",
    "                                                          'casos_covid','busquedas_google','cambio_normativa']],\n",
    "             hue='cambio_normativa'))\n",
    "'''Se observa correlación entre Plantilla & Plantilla de Baja y Edad & Plantilla y Plantilla de Baja\n",
    "No se puede ver la correlación COVID & Plantilla de baja porque no está limitado el df a la pandemia'''"
   ]
  },
  {
   "cell_type": "markdown",
   "id": "05ef3fd8",
   "metadata": {},
   "source": [
    "### Análisis correlación de variables con variable objetivo"
   ]
  },
  {
   "cell_type": "code",
   "execution_count": 29,
   "id": "d2bbf50c",
   "metadata": {},
   "outputs": [
    {
     "data": {
      "application/vnd.jupyter.widget-view+json": {
       "model_id": "125f1c580b344faebaf30efa31004ecb",
       "version_major": 2,
       "version_minor": 0
      },
      "text/plain": [
       "interactive(children=(Dropdown(description='Colectivo', options=('Administrativos/as', 'Auxiliar de enfermeria…"
      ]
     },
     "metadata": {},
     "output_type": "display_data"
    }
   ],
   "source": [
    "#Hacerlo interactivo por los diferentes colectivos\n",
    "@interact(Colectivo=df['COLECTIVO'].unique().tolist(), método=['spearman','pearson'])\n",
    "def correlacion(Colectivo,método):\n",
    "    plt.rcParams['figure.figsize']=(2,5)\n",
    "    correl=df[(df.COLECTIVO==Colectivo)][['Plantilla_de_baja','Plantilla','Edad_promedio','Festivos_intersemanales',\n",
    "                                                          'casos_covid','busquedas_google','cambio_normativa']].corr(method=método).iloc[0,:]\n",
    "    sns.heatmap(correl.to_frame(name=método),annot=True,center=0,cmap='vlag')"
   ]
  },
  {
   "cell_type": "code",
   "execution_count": 30,
   "id": "c0b45022",
   "metadata": {},
   "outputs": [
    {
     "data": {
      "application/vnd.jupyter.widget-view+json": {
       "model_id": "023a591e841a4cb2b44e4898b0d97ddc",
       "version_major": 2,
       "version_minor": 0
      },
      "text/plain": [
       "interactive(children=(Dropdown(description='Colectivo', options=('Administrativos/as', 'Auxiliar de enfermeria…"
      ]
     },
     "metadata": {},
     "output_type": "display_data"
    }
   ],
   "source": [
    "#Añadir en la exploración un filtro que me delimite el análisis a antes de la pandemia COVID\n",
    "#Hacerlo interactivo por los diferentes colectivos\n",
    "@interact(Colectivo=df['COLECTIVO'].unique().tolist(), método=['spearman','pearson'])\n",
    "def correlacion(Colectivo,método):\n",
    "    plt.rcParams['figure.figsize']=(2,5)\n",
    "    correl=df[(df.COLECTIVO==Colectivo)&(df['date'] < \"2020-03-01\")][['Plantilla_de_baja','Plantilla','Edad_promedio','Festivos_intersemanales',\n",
    "                                                          'casos_covid','busquedas_google','cambio_normativa']].corr(method=método).iloc[0,:]\n",
    "    sns.heatmap(correl.to_frame(name=método),annot=True,center=0,cmap='vlag')"
   ]
  },
  {
   "cell_type": "code",
   "execution_count": 31,
   "id": "5f6cf287",
   "metadata": {},
   "outputs": [
    {
     "data": {
      "text/plain": [
       "<AxesSubplot:>"
      ]
     },
     "execution_count": 31,
     "metadata": {},
     "output_type": "execute_result"
    },
    {
     "data": {
      "image/png": "[encoded data removed]",
      "text/plain": [
       "<Figure size 144x360 with 2 Axes>"
      ]
     },
     "metadata": {
      "needs_background": "light"
     },
     "output_type": "display_data"
    }
   ],
   "source": [
    "correl=df[['Plantilla_de_baja','Plantilla','Edad_promedio','Festivos_intersemanales',\n",
    "                                                          'casos_covid','busquedas_google','cambio_normativa']].corr(method='spearman').iloc[0,:]\n",
    "sns.heatmap(correl.to_frame(name='general'),annot=True,center=0,cmap='vlag')"
   ]
  },
  {
   "cell_type": "markdown",
   "id": "9e12b568",
   "metadata": {
    "code_folding": []
   },
   "source": [
    "\n",
    "* En general las variables 'casos COVID', 'plantilla' tienen correlación positivas respecto a la variable objetivo\n",
    "* En general las variables 'Edad_promedio' & 'cambio_normativa' tienen correlación negativa respecto a la variable objetivo\n",
    "* No se observa correlación apenas correlación para las variables ''busquedas_google' y 'Festivos_intersemanales'\n"
   ]
  },
  {
   "cell_type": "markdown",
   "id": "94dbca60",
   "metadata": {
    "code_folding": []
   },
   "source": [
    "### Análisis coliniaridad entre variables"
   ]
  },
  {
   "cell_type": "code",
   "execution_count": 32,
   "id": "b4fe93cb",
   "metadata": {},
   "outputs": [
    {
     "data": {
      "text/plain": [
       "<AxesSubplot:>"
      ]
     },
     "execution_count": 32,
     "metadata": {},
     "output_type": "execute_result"
    },
    {
     "data": {
      "image/png": "[encoded data removed]",
      "text/plain": [
       "<Figure size 720x720 with 2 Axes>"
      ]
     },
     "metadata": {
      "needs_background": "light"
     },
     "output_type": "display_data"
    }
   ],
   "source": [
    "#Vemos que hay una correlación negativa entre edad_promedio & Plantilla (Los meses en los que no se contratan nuevos trabajadores la plantilla se envejece)\n",
    "plt.rcParams['figure.figsize'] = (10,10)\n",
    "sns.heatmap(df.select_dtypes('number').drop(['mes','año','Plantilla_de_baja'],axis=1).corr(),annot=True)"
   ]
  },
  {
   "cell_type": "code",
   "execution_count": 33,
   "id": "2e8ea7a7",
   "metadata": {},
   "outputs": [
    {
     "data": {
      "text/plain": [
       "Festivos_intersemanales    1.006288\n",
       "Plantilla                  1.264749\n",
       "Edad_promedio              1.305491\n",
       "casos_covid                1.066651\n",
       "busquedas_google           1.104223\n",
       "cambio_normativa           1.107722\n",
       "dtype: float64"
      ]
     },
     "execution_count": 33,
     "metadata": {},
     "output_type": "execute_result"
    }
   ],
   "source": [
    "#Analisis de coliniaridad con VIF\n",
    "from statsmodels.stats.outliers_influence import variance_inflation_factor\n",
    "import statsmodels.api as sm\n",
    "X = sm.add_constant(df.select_dtypes('number').drop(['mes','año','Plantilla_de_baja'],axis=1))\n",
    "pd.Series([variance_inflation_factor(X,i) for i in range (1, X.shape[1])],index=X.columns.to_list()[1:]) "
   ]
  },
  {
   "cell_type": "markdown",
   "id": "b490d135",
   "metadata": {},
   "source": [
    "La variable no presenta mucha coliniaridad pero para eliminar confusión decidimos eliminarla del dataset"
   ]
  },
  {
   "cell_type": "code",
   "execution_count": 34,
   "id": "ae1d08d6",
   "metadata": {},
   "outputs": [
    {
     "data": {
      "text/plain": [
       "Festivos_intersemanales    1.006231\n",
       "Plantilla                  1.004966\n",
       "casos_covid                1.065554\n",
       "busquedas_google           1.101177\n",
       "cambio_normativa           1.072792\n",
       "dtype: float64"
      ]
     },
     "execution_count": 34,
     "metadata": {},
     "output_type": "execute_result"
    }
   ],
   "source": [
    "X = X.drop(['Edad_promedio'],axis=1)\n",
    "pd.Series([variance_inflation_factor(X,i) for i in range (1, X.shape[1])],index=X.columns.to_list()[1:]) "
   ]
  },
  {
   "cell_type": "code",
   "execution_count": 35,
   "id": "0abd2a37",
   "metadata": {},
   "outputs": [],
   "source": [
    "df.drop('Edad_promedio',axis=1,inplace=True)"
   ]
  },
  {
   "cell_type": "code",
   "execution_count": 36,
   "id": "b4f30461",
   "metadata": {},
   "outputs": [
    {
     "data": {
      "text/plain": [
       "<AxesSubplot:>"
      ]
     },
     "execution_count": 36,
     "metadata": {},
     "output_type": "execute_result"
    },
    {
     "data": {
      "image/png": "[encoded data removed]",
      "text/plain": [
       "<Figure size 144x360 with 2 Axes>"
      ]
     },
     "metadata": {
      "needs_background": "light"
     },
     "output_type": "display_data"
    }
   ],
   "source": [
    "plt.rcParams['figure.figsize']=(2,5)\n",
    "correl=df[(df.COLECTIVO=='Enfermeras/os')][['Plantilla_de_baja','Plantilla','Festivos_intersemanales',\n",
    "                                                          'casos_covid','busquedas_google','cambio_normativa']].corr().iloc[0,:]\n",
    "sns.heatmap(correl.to_frame(name='general'),annot=True,center=0,cmap='vlag')"
   ]
  },
  {
   "cell_type": "markdown",
   "id": "065d6c46",
   "metadata": {},
   "source": [
    "## Exportaciones csv"
   ]
  },
  {
   "cell_type": "code",
   "execution_count": 38,
   "id": "15b47b8f",
   "metadata": {},
   "outputs": [],
   "source": [
    "#limpieza previa a exportación\n",
    "df[\"COLECTIVO\"]=df[\"COLECTIVO\"].str.replace(\"Personal \",\"\")"
   ]
  },
  {
   "cell_type": "code",
   "execution_count": 39,
   "id": "a2a6e005",
   "metadata": {},
   "outputs": [],
   "source": [
    "#Loop para exportar los datasets resultantes\n",
    "for c in df['COLECTIVO'].unique().tolist():\n",
    "    df[df['COLECTIVO']==c].reset_index().to_csv(f\"output\\{c[0:5]}.csv\",encoding='latin-1',index=False)\n"
   ]
  },
  {
   "cell_type": "code",
   "execution_count": 40,
   "id": "ff52887c",
   "metadata": {},
   "outputs": [],
   "source": [
    "#Exportamos también casos Covid como csv:\n",
    "\n",
    "#Añadimos columna en formato fecha\n",
    "df_covid['date'] = pd.to_datetime(\n",
    "    dict(\n",
    "        year=df_covid['año'], \n",
    "        month=df_covid['mes'], \n",
    "        day=1\n",
    "    )\n",
    ")\n",
    "\n",
    "#Exportar a csv\n",
    "df_covid.drop(['año','mes'],axis=1).to_csv(\"data\\casos_covid.csv\",encoding='latin-1',index=False)"
   ]
  }
 ],
 "metadata": {
  "kernelspec": {
   "display_name": "Python 3",
   "language": "python",
   "name": "python3"
  },
  "language_info": {
   "codemirror_mode": {
    "name": "ipython",
    "version": 3
   },
   "file_extension": ".py",
   "mimetype": "text/x-python",
   "name": "python",
   "nbconvert_exporter": "python",
   "pygments_lexer": "ipython3",
   "version": "3.8.8"
  },
  "toc": {
   "base_numbering": 1,
   "nav_menu": {},
   "number_sections": true,
   "sideBar": true,
   "skip_h1_title": false,
   "title_cell": "Table of Contents",
   "title_sidebar": "Contents",
   "toc_cell": false,
   "toc_position": {
    "height": "calc(100% - 180px)",
    "left": "10px",
    "top": "150px",
    "width": "426.625px"
   },
   "toc_section_display": true,
   "toc_window_display": true
  },
  "varInspector": {
   "cols": {
    "lenName": 16,
    "lenType": 16,
    "lenVar": 40
   },
   "kernels_config": {
    "python": {
     "delete_cmd_postfix": "",
     "delete_cmd_prefix": "del ",
     "library": "var_list.py",
     "varRefreshCmd": "print(var_dic_list())"
    },
    "r": {
     "delete_cmd_postfix": ") ",
     "delete_cmd_prefix": "rm(",
     "library": "var_list.r",
     "varRefreshCmd": "cat(var_dic_list()) "
    }
   },
   "types_to_exclude": [
    "module",
    "function",
    "builtin_function_or_method",
    "instance",
    "_Feature"
   ],
   "window_display": false
  }
 },
 "nbformat": 4,
 "nbformat_minor": 5
}
