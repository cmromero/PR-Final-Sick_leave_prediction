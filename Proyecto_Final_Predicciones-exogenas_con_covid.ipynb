{
 "cells": [
  {
   "cell_type": "code",
   "execution_count": 1,
   "id": "becce9e2",
   "metadata": {},
   "outputs": [],
   "source": [
    "import numpy as np\n",
    "import pandas as pd\n",
    "from statsmodels.tsa.statespace.sarimax import SARIMAX\n",
    "import pickle\n",
    "import matplotlib.pyplot as plt"
   ]
  },
  {
   "cell_type": "markdown",
   "id": "9e27ed93",
   "metadata": {},
   "source": [
    "## Importar modelo/s"
   ]
  },
  {
   "cell_type": "code",
   "execution_count": 2,
   "id": "c65762f9",
   "metadata": {},
   "outputs": [],
   "source": [
    "with open('models/model_enfermeras_covid.pkl','rb') as f:\n",
    "    modelo_enfermeria_arima=pickle.load(f)"
   ]
  },
  {
   "cell_type": "code",
   "execution_count": 3,
   "id": "cea94a12",
   "metadata": {},
   "outputs": [],
   "source": [
    "with open('models/model_enfermeras_plantilla.pkl','rb') as f:\n",
    "    modelo_plantilla_profet=pickle.load(f)"
   ]
  },
  {
   "cell_type": "code",
   "execution_count": 4,
   "id": "6f4f516b",
   "metadata": {},
   "outputs": [],
   "source": [
    "with open('models/model_enfermeras_google.pkl','rb') as f:\n",
    "    modelo_google_arima=pickle.load(f)"
   ]
  },
  {
   "cell_type": "code",
   "execution_count": 5,
   "id": "5d27142c",
   "metadata": {},
   "outputs": [],
   "source": [
    "#Importamos dataset\n",
    "df = pd.read_csv('output/Enfer.csv', sep=',',encoding='latin1',decimal=\".\")\n",
    "ts=df.set_index('date').drop(['index','COLECTIVO','mes','año'],axis=1)"
   ]
  },
  {
   "cell_type": "code",
   "execution_count": 6,
   "id": "45f348a4",
   "metadata": {},
   "outputs": [],
   "source": [
    "#Importamos dataset covid\n",
    "covid_badalona=pd.read_csv('data/casos_covid.csv', sep=',',encoding='latin1',decimal=\".\")"
   ]
  },
  {
   "cell_type": "code",
   "execution_count": 7,
   "id": "b0527db4",
   "metadata": {},
   "outputs": [],
   "source": [
    "ts_covid=covid_badalona.set_index('date')"
   ]
  },
  {
   "cell_type": "markdown",
   "id": "950b890f",
   "metadata": {},
   "source": [
    "## Predicción valores exógenos"
   ]
  },
  {
   "cell_type": "markdown",
   "id": "9490049a",
   "metadata": {},
   "source": [
    "### Predicción plantilla"
   ]
  },
  {
   "cell_type": "code",
   "execution_count": 8,
   "id": "32f42a36",
   "metadata": {},
   "outputs": [
    {
     "name": "stderr",
     "output_type": "stream",
     "text": [
      "INFO:numexpr.utils:NumExpr defaulting to 8 threads.\n"
     ]
    }
   ],
   "source": [
    "\n",
    "ds= pd.DataFrame({'ds':pd.date_range(start='2022-03-01',\n",
    "                                  end='2022-12-01',\n",
    "                                  freq='MS')})\n",
    "yhat=modelo_plantilla_profet.predict(ds).yhat\n",
    "exogenos=pd.DataFrame(data=yhat.to_numpy(),index=ds['ds'],columns=['Plantilla'])"
   ]
  },
  {
   "cell_type": "markdown",
   "id": "8406acf1",
   "metadata": {},
   "source": [
    "### Predicción casos covid en base evolución Sudafrica"
   ]
  },
  {
   "cell_type": "code",
   "execution_count": 9,
   "id": "07838331",
   "metadata": {},
   "outputs": [],
   "source": [
    "covid_sudafrica = pd.read_csv('data/covid_sudafrica.csv', sep=';',encoding='latin1',header=[0])"
   ]
  },
  {
   "cell_type": "code",
   "execution_count": 10,
   "id": "5dd1cd38",
   "metadata": {},
   "outputs": [],
   "source": [
    "#creo funciones para extraer dia, mes y año:\n",
    "def extraer_dia(x):\n",
    "    return x.split(\"/\")[0]\n",
    "\n",
    "def extraer_mes(x):\n",
    "    return x.split(\"/\")[1]\n",
    "\n",
    "def extraer_año(x):\n",
    "    return x.split(\"/\")[2]"
   ]
  },
  {
   "cell_type": "code",
   "execution_count": 11,
   "id": "d127545e",
   "metadata": {},
   "outputs": [],
   "source": [
    "#extraigo dia, mes y año\n",
    "covid_sudafrica['dia']=covid_sudafrica['Fecha'].apply(extraer_dia).astype('int')\n",
    "covid_sudafrica['mes']=covid_sudafrica['Fecha'].apply(extraer_mes).astype('int')\n",
    "covid_sudafrica['año']=covid_sudafrica['Fecha'].apply(extraer_año).astype('int')\n"
   ]
  },
  {
   "cell_type": "code",
   "execution_count": 12,
   "id": "7084c7f5",
   "metadata": {},
   "outputs": [],
   "source": [
    "#Añadimos columna fecha agrupada\n",
    "covid_sudafrica['date_agr'] = pd.to_datetime(\n",
    "    dict(\n",
    "        year=covid_sudafrica['año'], \n",
    "        month=covid_sudafrica['mes'], \n",
    "        day=1\n",
    "    )\n",
    ")"
   ]
  },
  {
   "cell_type": "code",
   "execution_count": 13,
   "id": "1ef6f6b9",
   "metadata": {},
   "outputs": [
    {
     "data": {
      "text/plain": [
       "date_agr\n",
       "2021-11-01     45936\n",
       "2021-12-01    490234\n",
       "2022-01-01    146936\n",
       "2022-02-01     68820\n",
       "2022-03-01     26442\n",
       "Name: Var., dtype: int64"
      ]
     },
     "execution_count": 13,
     "metadata": {},
     "output_type": "execute_result"
    }
   ],
   "source": [
    "#observamos tendencia ola omicron en sudafrica\n",
    "covid_sudafrica.groupby('date_agr')['Var.'].sum()"
   ]
  },
  {
   "cell_type": "code",
   "execution_count": 14,
   "id": "2fc0f261",
   "metadata": {},
   "outputs": [
    {
     "data": {
      "text/html": [
       "<div>\n",
       "<style scoped>\n",
       "    .dataframe tbody tr th:only-of-type {\n",
       "        vertical-align: middle;\n",
       "    }\n",
       "\n",
       "    .dataframe tbody tr th {\n",
       "        vertical-align: top;\n",
       "    }\n",
       "\n",
       "    .dataframe thead th {\n",
       "        text-align: right;\n",
       "    }\n",
       "</style>\n",
       "<table border=\"1\" class=\"dataframe\">\n",
       "  <thead>\n",
       "    <tr style=\"text-align: right;\">\n",
       "      <th></th>\n",
       "      <th>numcasos</th>\n",
       "    </tr>\n",
       "    <tr>\n",
       "      <th>date</th>\n",
       "      <th></th>\n",
       "    </tr>\n",
       "  </thead>\n",
       "  <tbody>\n",
       "    <tr>\n",
       "      <th>2022-01-01</th>\n",
       "      <td>77899</td>\n",
       "    </tr>\n",
       "    <tr>\n",
       "      <th>2022-02-01</th>\n",
       "      <td>14788</td>\n",
       "    </tr>\n",
       "    <tr>\n",
       "      <th>2022-03-01</th>\n",
       "      <td>4722</td>\n",
       "    </tr>\n",
       "  </tbody>\n",
       "</table>\n",
       "</div>"
      ],
      "text/plain": [
       "            numcasos\n",
       "date                \n",
       "2022-01-01     77899\n",
       "2022-02-01     14788\n",
       "2022-03-01      4722"
      ]
     },
     "execution_count": 14,
     "metadata": {},
     "output_type": "execute_result"
    }
   ],
   "source": [
    "#comparamos con la ola en Badalona\n",
    "ts_covid.tail(3)"
   ]
  },
  {
   "cell_type": "code",
   "execution_count": 15,
   "id": "16001383",
   "metadata": {},
   "outputs": [],
   "source": [
    "## Hacemos una predicción de casos covid en Badalona en función de la tendencia de Sudafrica\n",
    "prediccion_covid=[7300,3600,1500,750,660,600,550,660,1000,3000]\n",
    "exogenos['casos_covid']=np.array(prediccion_covid)"
   ]
  },
  {
   "cell_type": "markdown",
   "id": "47b8ef4f",
   "metadata": {},
   "source": [
    "### Cambio normativa"
   ]
  },
  {
   "cell_type": "code",
   "execution_count": 16,
   "id": "0c32a176",
   "metadata": {},
   "outputs": [],
   "source": [
    "exogenos['cambio_normativa']=np.zeros((10,), dtype=int)\n",
    "#exogeno_normativa=pd.DataFrame(data=np.zeros((10,), dtype=int),index=ds['ds'],columns=['cambio_normativa'])"
   ]
  },
  {
   "cell_type": "markdown",
   "id": "e6ed0307",
   "metadata": {},
   "source": [
    "### Festivos_intersemanales"
   ]
  },
  {
   "cell_type": "code",
   "execution_count": 17,
   "id": "a1e543b5",
   "metadata": {},
   "outputs": [],
   "source": [
    "festivos_intersemanales=[0,2,1,2,0,1,0,1,1,3]\n",
    "exogenos['Festivos_intersemanales']=np.array(festivos_intersemanales)"
   ]
  },
  {
   "cell_type": "markdown",
   "id": "93c30d38",
   "metadata": {},
   "source": [
    "### Predicción búsquedas google"
   ]
  },
  {
   "cell_type": "code",
   "execution_count": 18,
   "id": "cf15e4bc",
   "metadata": {},
   "outputs": [],
   "source": [
    "histórico_google=ts[['busquedas_google']][32:] #desde septiembre de 2005"
   ]
  },
  {
   "cell_type": "code",
   "execution_count": 19,
   "id": "460d9949",
   "metadata": {},
   "outputs": [
    {
     "name": "stderr",
     "output_type": "stream",
     "text": [
      "C:\\Users\\carlo\\anaconda3\\lib\\site-packages\\statsmodels\\tsa\\base\\tsa_model.py:536: ValueWarning: No frequency information was provided, so inferred frequency MS will be used.\n",
      "  warnings.warn('No frequency information was'\n"
     ]
    }
   ],
   "source": [
    "#Obtenemos modelo SARIMAX con parámetros obtenidos\n",
    "params = modelo_google_arima.order \n",
    "sparams = modelo_google_arima.order+(12,) \n",
    "#freq MS quiere decir frecuencia mensual\n",
    "smodelo_google_arima = SARIMAX(histórico_google, \n",
    "                order=params,\n",
    "                seasonal_order=sparams, \n",
    "                freq='MS'\n",
    "                )\n",
    "results_google=smodelo_google_arima.fit(maxiter=100)"
   ]
  },
  {
   "cell_type": "code",
   "execution_count": 20,
   "id": "ab5410a3",
   "metadata": {},
   "outputs": [],
   "source": [
    "y_pred_google=results_google.get_prediction(start='2022-03-01',end='2022-12-01').predicted_mean\n",
    "exogenos['busquedas_google']=y_pred_google.to_numpy()"
   ]
  },
  {
   "cell_type": "markdown",
   "id": "9f425620",
   "metadata": {},
   "source": [
    "## Predicción valor objetivo"
   ]
  },
  {
   "cell_type": "markdown",
   "id": "5d580f6d",
   "metadata": {},
   "source": [
    "### Vuelvo a entrenar el modelo con valores históricos"
   ]
  },
  {
   "cell_type": "code",
   "execution_count": 21,
   "id": "77bc4a4b",
   "metadata": {},
   "outputs": [],
   "source": [
    "endogena_hist=ts[['Plantilla_de_baja']]\n",
    "exogenas_hist=ts[exogenos.columns.to_list()]"
   ]
  },
  {
   "cell_type": "code",
   "execution_count": 22,
   "id": "7dd73606",
   "metadata": {},
   "outputs": [
    {
     "name": "stderr",
     "output_type": "stream",
     "text": [
      "C:\\Users\\carlo\\anaconda3\\lib\\site-packages\\statsmodels\\tsa\\base\\tsa_model.py:536: ValueWarning: No frequency information was provided, so inferred frequency MS will be used.\n",
      "  warnings.warn('No frequency information was'\n",
      "C:\\Users\\carlo\\anaconda3\\lib\\site-packages\\statsmodels\\tsa\\statespace\\sarimax.py:1009: UserWarning: Non-invertible starting seasonal moving average Using zeros as starting parameters.\n",
      "  warn('Non-invertible starting seasonal moving average'\n"
     ]
    }
   ],
   "source": [
    "#Obtenemos modelo SARIMAX con parámetros obtenidos\n",
    "params = modelo_enfermeria_arima.order \n",
    "sparams = modelo_enfermeria_arima.order+(12,) \n",
    "#freq MS quiere decir frecuencia mensual\n",
    "smodel = SARIMAX(endogena_hist, \n",
    "                order=params,\n",
    "                exog=exogenas_hist,\n",
    "                seasonal_order=sparams, \n",
    "                freq='MS'\n",
    "                )\n",
    "results=smodel.fit(maxiter=1000)"
   ]
  },
  {
   "cell_type": "markdown",
   "id": "1561b1c5",
   "metadata": {},
   "source": [
    "### Hago predicción a futuro"
   ]
  },
  {
   "cell_type": "code",
   "execution_count": 23,
   "id": "a07445b4",
   "metadata": {},
   "outputs": [],
   "source": [
    "#Obtengo predicciónes y intervalos de confianza\n",
    "y_pred_inf=results.get_prediction(start='2022-03-01',end='2022-12-01',exog=exogenos)\n",
    "y_pred_media=results.get_prediction(start='2022-03-01',end='2022-12-01',exog=exogenos).predicted_mean\n",
    "intervalos=y_pred_inf.conf_int()"
   ]
  },
  {
   "cell_type": "code",
   "execution_count": 24,
   "id": "bbcd64bd",
   "metadata": {},
   "outputs": [],
   "source": [
    "#divijo la ya producido\n",
    "x1=ts['Plantilla_de_baja'].tail(3).head(2).reset_index()['date']\n",
    "y1=ts['Plantilla_de_baja'].tail(3).head(2).reset_index()['Plantilla_de_baja']"
   ]
  },
  {
   "cell_type": "code",
   "execution_count": 26,
   "id": "8d88c06b",
   "metadata": {},
   "outputs": [],
   "source": [
    "from cycler import cycler\n",
    "colors= cycler(color=['#44c5c8', '#67d1d3', '#8ddcde', '#baeaea', '#ebf9f9','#434343'])\n",
    "plt.rcParams['axes.prop_cycle'] =colors"
   ]
  },
  {
   "cell_type": "code",
   "execution_count": 27,
   "id": "479e7e7e",
   "metadata": {
    "scrolled": true
   },
   "outputs": [
    {
     "data": {
      "text/plain": [
       "<matplotlib.collections.PolyCollection at 0x22060455190>"
      ]
     },
     "execution_count": 27,
     "metadata": {},
     "output_type": "execute_result"
    },
    {
     "data": {
      "image/png": "[encoded data removed]",
      "text/plain": [
       "<Figure size 1080x432 with 1 Axes>"
      ]
     },
     "metadata": {
      "needs_background": "light"
     },
     "output_type": "display_data"
    }
   ],
   "source": [
    "#Dibujo las resultados con intérvalo de confianza\n",
    "plt.rcParams['figure.figsize']=(15,6)\n",
    "ds=y_pred_media.reset_index()\n",
    "#historico\n",
    "#data\n",
    "x = ds['index']\n",
    "y = ds['predicted_mean']\n",
    "#confidence interval\n",
    "ci_low=intervalos['lower Plantilla_de_baja']\n",
    "ci_upp=intervalos['upper Plantilla_de_baja']\n",
    "fig, ax = plt.subplots()\n",
    "ax.plot(x,y)\n",
    "for i,j in zip(x,y):\n",
    "\n",
    "    label = \"{:.2f}\".format(j)\n",
    "\n",
    "    plt.annotate(label, # this is the text\n",
    "                 (i,j), # these are the coordinates to position the label\n",
    "                 textcoords=\"offset points\", # how to position the text\n",
    "                 xytext=(0,10), # distance from text to points (x,y)\n",
    "                 ha='center') # horizontal alignment can be left, right or center\n",
    "    \n",
    "ax.fill_between(x, ci_low, ci_upp, color='#8ddcde', alpha=.1)"
   ]
  },
  {
   "cell_type": "code",
   "execution_count": 28,
   "id": "e1ba4b61",
   "metadata": {},
   "outputs": [
    {
     "data": {
      "text/plain": [
       "2022-03-01    62.558362\n",
       "2022-04-01    66.247200\n",
       "2022-05-01    64.013147\n",
       "2022-06-01    59.908592\n",
       "2022-07-01    55.685384\n",
       "2022-08-01    53.070207\n",
       "2022-09-01    58.659975\n",
       "2022-10-01    63.850580\n",
       "2022-11-01    68.535176\n",
       "2022-12-01    69.814607\n",
       "Freq: MS, Name: predicted_mean, dtype: float64"
      ]
     },
     "execution_count": 28,
     "metadata": {},
     "output_type": "execute_result"
    }
   ],
   "source": [
    "y_pred_media"
   ]
  },
  {
   "cell_type": "code",
   "execution_count": 29,
   "id": "1afa91ee",
   "metadata": {},
   "outputs": [
    {
     "data": {
      "text/html": [
       "<div>\n",
       "<style scoped>\n",
       "    .dataframe tbody tr th:only-of-type {\n",
       "        vertical-align: middle;\n",
       "    }\n",
       "\n",
       "    .dataframe tbody tr th {\n",
       "        vertical-align: top;\n",
       "    }\n",
       "\n",
       "    .dataframe thead th {\n",
       "        text-align: right;\n",
       "    }\n",
       "</style>\n",
       "<table border=\"1\" class=\"dataframe\">\n",
       "  <thead>\n",
       "    <tr style=\"text-align: right;\">\n",
       "      <th></th>\n",
       "      <th>lower Plantilla_de_baja</th>\n",
       "      <th>upper Plantilla_de_baja</th>\n",
       "    </tr>\n",
       "  </thead>\n",
       "  <tbody>\n",
       "    <tr>\n",
       "      <th>2022-03-01</th>\n",
       "      <td>46.621891</td>\n",
       "      <td>78.494834</td>\n",
       "    </tr>\n",
       "    <tr>\n",
       "      <th>2022-04-01</th>\n",
       "      <td>42.482652</td>\n",
       "      <td>90.011748</td>\n",
       "    </tr>\n",
       "    <tr>\n",
       "      <th>2022-05-01</th>\n",
       "      <td>37.584811</td>\n",
       "      <td>90.441482</td>\n",
       "    </tr>\n",
       "    <tr>\n",
       "      <th>2022-06-01</th>\n",
       "      <td>31.983532</td>\n",
       "      <td>87.833652</td>\n",
       "    </tr>\n",
       "    <tr>\n",
       "      <th>2022-07-01</th>\n",
       "      <td>26.594539</td>\n",
       "      <td>84.776228</td>\n",
       "    </tr>\n",
       "    <tr>\n",
       "      <th>2022-08-01</th>\n",
       "      <td>23.147938</td>\n",
       "      <td>82.992476</td>\n",
       "    </tr>\n",
       "    <tr>\n",
       "      <th>2022-09-01</th>\n",
       "      <td>27.792381</td>\n",
       "      <td>89.527569</td>\n",
       "    </tr>\n",
       "    <tr>\n",
       "      <th>2022-10-01</th>\n",
       "      <td>32.133584</td>\n",
       "      <td>95.567576</td>\n",
       "    </tr>\n",
       "    <tr>\n",
       "      <th>2022-11-01</th>\n",
       "      <td>35.958379</td>\n",
       "      <td>101.111973</td>\n",
       "    </tr>\n",
       "    <tr>\n",
       "      <th>2022-12-01</th>\n",
       "      <td>36.416935</td>\n",
       "      <td>103.212279</td>\n",
       "    </tr>\n",
       "  </tbody>\n",
       "</table>\n",
       "</div>"
      ],
      "text/plain": [
       "            lower Plantilla_de_baja  upper Plantilla_de_baja\n",
       "2022-03-01                46.621891                78.494834\n",
       "2022-04-01                42.482652                90.011748\n",
       "2022-05-01                37.584811                90.441482\n",
       "2022-06-01                31.983532                87.833652\n",
       "2022-07-01                26.594539                84.776228\n",
       "2022-08-01                23.147938                82.992476\n",
       "2022-09-01                27.792381                89.527569\n",
       "2022-10-01                32.133584                95.567576\n",
       "2022-11-01                35.958379               101.111973\n",
       "2022-12-01                36.416935               103.212279"
      ]
     },
     "execution_count": 29,
     "metadata": {},
     "output_type": "execute_result"
    }
   ],
   "source": [
    "intervalos"
   ]
  },
  {
   "cell_type": "markdown",
   "id": "39cba6de",
   "metadata": {},
   "source": [
    "## Obtener coste medio mensual por sustitución enfermera/o"
   ]
  },
  {
   "cell_type": "code",
   "execution_count": 30,
   "id": "7e8b993c",
   "metadata": {},
   "outputs": [],
   "source": [
    "#Valor de tabla retributiva 2022 para DUI de nivel 2:\n",
    "#coste_mensual_bruto=1071.06+528.7+620.91+(781.15+528.7+620.91)/6\n",
    "#No se tiene en cuenta importes de antiguedad como la carrera profesional y triennios ni atención continuada"
   ]
  },
  {
   "cell_type": "code",
   "execution_count": 31,
   "id": "a39f0f68",
   "metadata": {},
   "outputs": [],
   "source": [
    "coste_mensual_bruto=2513.58"
   ]
  },
  {
   "cell_type": "code",
   "execution_count": 32,
   "id": "7b5fac3a",
   "metadata": {},
   "outputs": [],
   "source": [
    "inf=y_pred_media.to_frame(name='plantilla_it')"
   ]
  },
  {
   "cell_type": "code",
   "execution_count": 33,
   "id": "bf9218a0",
   "metadata": {},
   "outputs": [],
   "source": [
    "inf['coste_mensual']=inf*coste_mensual_bruto"
   ]
  },
  {
   "cell_type": "code",
   "execution_count": 34,
   "id": "c92e0c79",
   "metadata": {},
   "outputs": [
    {
     "data": {
      "text/plain": [
       "622.3432304200111"
      ]
     },
     "execution_count": 34,
     "metadata": {},
     "output_type": "execute_result"
    }
   ],
   "source": [
    "inf['plantilla_it'].sum()"
   ]
  },
  {
   "cell_type": "markdown",
   "id": "553cccbf",
   "metadata": {},
   "source": [
    "## Calcular cobertura a partir de coste_medio_mensual, previsión de plantilla de baja y crédito presupuestario"
   ]
  },
  {
   "cell_type": "code",
   "execution_count": 35,
   "id": "4cebe261",
   "metadata": {},
   "outputs": [
    {
     "data": {
      "text/plain": [
       "1564309.4971191315"
      ]
     },
     "execution_count": 35,
     "metadata": {},
     "output_type": "execute_result"
    }
   ],
   "source": [
    "inf_cobertura_total=inf['coste_mensual'].sum()\n",
    "inf_cobertura_total"
   ]
  },
  {
   "cell_type": "code",
   "execution_count": 36,
   "id": "1b2a781e",
   "metadata": {},
   "outputs": [
    {
     "data": {
      "text/plain": [
       "28586772.47"
      ]
     },
     "execution_count": 36,
     "metadata": {},
     "output_type": "execute_result"
    }
   ],
   "source": [
    "#Credito inicial en bolsa de substituciones/eventuales para Hospital Germans Trias i Pujol 2022:\n",
    "Importe_inicial=7879362.4+7930089.1\n",
    "Exceso_permitido=12777320.97\n",
    "credito_habilitado_2022=Importe_inicial+Exceso_permitido\n",
    "credito_habilitado_2022"
   ]
  },
  {
   "cell_type": "code",
   "execution_count": 37,
   "id": "c1e3ca02",
   "metadata": {},
   "outputs": [],
   "source": [
    "#Gasto acumulado en subtituciones/eventuales\n",
    "#gasto_enero\n",
    "#gasto_febrero\n",
    "gasto_en_substituciones_event_acum=4194367.95\n",
    "gasto_anual_en_programas=18320654.35-gasto_en_substituciones_event_acum\n"
   ]
  },
  {
   "cell_type": "code",
   "execution_count": 38,
   "id": "b7c75bba",
   "metadata": {},
   "outputs": [
    {
     "data": {
      "text/plain": [
       "10266118.119999997"
      ]
     },
     "execution_count": 38,
     "metadata": {},
     "output_type": "execute_result"
    }
   ],
   "source": [
    "credito_disponible=credito_habilitado_2022-gasto_en_substituciones_event_acum-gasto_anual_en_programas\n",
    "credito_disponible"
   ]
  },
  {
   "cell_type": "code",
   "execution_count": 39,
   "id": "b8925416",
   "metadata": {},
   "outputs": [
    {
     "data": {
      "text/plain": [
       "6844078.746666665"
      ]
     },
     "execution_count": 39,
     "metadata": {},
     "output_type": "execute_result"
    }
   ],
   "source": [
    "#credito_disponible_su=credito_disponible*0.5 \n",
    "#el resto va para programas (25%), cobertura vacaciones (13%) y refuerzos (12%)\n",
    "credito_disponible_su=credito_disponible*2/3 #2 tercios se reserva para sustituciones, el resto para refuerzos\n",
    "credito_disponible_su\n"
   ]
  },
  {
   "attachments": {
    "image.png": {
     "image/png": "[encoded data removed]"
    }
   },
   "cell_type": "markdown",
   "id": "787fddeb",
   "metadata": {},
   "source": [
    "![image.png](attachment:image.png)"
   ]
  },
  {
   "cell_type": "code",
   "execution_count": 40,
   "id": "d60e111b",
   "metadata": {},
   "outputs": [
    {
     "data": {
      "text/plain": [
       "4722414.335199999"
      ]
     },
     "execution_count": 40,
     "metadata": {},
     "output_type": "execute_result"
    }
   ],
   "source": [
    "credito_disponible_su_it=credito_disponible_su*0.69\n",
    "credito_disponible_su_it\n",
    "#el resto va para sustituciones de bajas maternales (10%) y reducciones de jornadas (21%)"
   ]
  },
  {
   "cell_type": "code",
   "execution_count": 41,
   "id": "8722058b",
   "metadata": {},
   "outputs": [
    {
     "data": {
      "text/plain": [
       "1888965.7340799996"
      ]
     },
     "execution_count": 41,
     "metadata": {},
     "output_type": "execute_result"
    }
   ],
   "source": [
    "credito_disponible_su_it_enfermeras=credito_disponible_su_it*0.40\n",
    "#El 41% porque es la propoción coste de personal enfermero de baja en el histórico\n",
    "credito_disponible_su_it_enfermeras"
   ]
  },
  {
   "cell_type": "code",
   "execution_count": 42,
   "id": "20d0b1d2",
   "metadata": {},
   "outputs": [
    {
     "data": {
      "text/plain": [
       "1.2075396445260753"
      ]
     },
     "execution_count": 42,
     "metadata": {},
     "output_type": "execute_result"
    }
   ],
   "source": [
    "Cobertura_permitida=credito_disponible_su_it_enfermeras/inf_cobertura_total\n",
    "Cobertura_permitida"
   ]
  },
  {
   "cell_type": "code",
   "execution_count": 43,
   "id": "6713d921",
   "metadata": {},
   "outputs": [
    {
     "data": {
      "text/plain": [
       "'Con el crédito disponible de 1,888,965.73 € se pueden cubrir el 121% de las bajas por IT previstas hasta final de año'"
      ]
     },
     "execution_count": 43,
     "metadata": {},
     "output_type": "execute_result"
    }
   ],
   "source": [
    "f'Con el crédito disponible de {credito_disponible_su_it_enfermeras:3,.2f} € se pueden cubrir el {Cobertura_permitida:.0%} de las bajas por IT previstas hasta final de año'"
   ]
  },
  {
   "cell_type": "code",
   "execution_count": 44,
   "id": "b5295b0d",
   "metadata": {},
   "outputs": [],
   "source": [
    "#formula para saber la ampliación o reducción de crédito necesária para cubrir X% de bajas\n",
    "def estado_credito_SU(cobertura_deseada):\n",
    "    '''cobretura expresada en %'''\n",
    "    credito_necesario=inf_cobertura_total*cobertura_deseada/100\n",
    "    saldo=credito_disponible_su_it_enfermeras-credito_necesario\n",
    "    if saldo>0:\n",
    "        return f'Se estima que sobrará {saldo:3,.2f} € en la bolsa de substituciones en IT para el colectivo de enfermeras a final de año.'\n",
    "    else:\n",
    "        return f'Se estima que faltará {-saldo:3,.2f} € en la bolsa de substituciones en IT para el colectivo de enfermeras a final de año.'\n"
   ]
  },
  {
   "cell_type": "code",
   "execution_count": 45,
   "id": "612d71c2",
   "metadata": {},
   "outputs": [
    {
     "data": {
      "text/plain": [
       "'Se estima que sobrará 324,656.24 € en la bolsa de substituciones en IT para el colectivo de enfermeras a final de año.'"
      ]
     },
     "execution_count": 45,
     "metadata": {},
     "output_type": "execute_result"
    }
   ],
   "source": [
    "estado_credito_SU(100)"
   ]
  },
  {
   "cell_type": "code",
   "execution_count": null,
   "id": "e4e86806",
   "metadata": {},
   "outputs": [],
   "source": []
  }
 ],
 "metadata": {
  "kernelspec": {
   "display_name": "Python 3",
   "language": "python",
   "name": "python3"
  },
  "language_info": {
   "codemirror_mode": {
    "name": "ipython",
    "version": 3
   },
   "file_extension": ".py",
   "mimetype": "text/x-python",
   "name": "python",
   "nbconvert_exporter": "python",
   "pygments_lexer": "ipython3",
   "version": "3.8.8"
  },
  "toc": {
   "base_numbering": 1,
   "nav_menu": {},
   "number_sections": true,
   "sideBar": true,
   "skip_h1_title": false,
   "title_cell": "Table of Contents",
   "title_sidebar": "Contents",
   "toc_cell": false,
   "toc_position": {},
   "toc_section_display": true,
   "toc_window_display": false
  },
  "varInspector": {
   "cols": {
    "lenName": 16,
    "lenType": 16,
    "lenVar": 40
   },
   "kernels_config": {
    "python": {
     "delete_cmd_postfix": "",
     "delete_cmd_prefix": "del ",
     "library": "var_list.py",
     "varRefreshCmd": "print(var_dic_list())"
    },
    "r": {
     "delete_cmd_postfix": ") ",
     "delete_cmd_prefix": "rm(",
     "library": "var_list.r",
     "varRefreshCmd": "cat(var_dic_list()) "
    }
   },
   "types_to_exclude": [
    "module",
    "function",
    "builtin_function_or_method",
    "instance",
    "_Feature"
   ],
   "window_display": false
  }
 },
 "nbformat": 4,
 "nbformat_minor": 5
}
