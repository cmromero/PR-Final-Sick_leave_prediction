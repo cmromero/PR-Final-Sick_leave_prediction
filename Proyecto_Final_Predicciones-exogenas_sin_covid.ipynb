{
 "cells": [
  {
   "cell_type": "code",
   "execution_count": 1,
   "id": "becce9e2",
   "metadata": {},
   "outputs": [],
   "source": [
    "import numpy as np\n",
    "import pandas as pd\n",
    "from statsmodels.tsa.statespace.sarimax import SARIMAX\n",
    "import pickle\n",
    "import matplotlib.pyplot as plt"
   ]
  },
  {
   "cell_type": "markdown",
   "id": "9e27ed93",
   "metadata": {},
   "source": [
    "## Importar modelo/s"
   ]
  },
  {
   "cell_type": "code",
   "execution_count": 2,
   "id": "c65762f9",
   "metadata": {},
   "outputs": [],
   "source": [
    "with open('models/model_enfermeras.pkl','rb') as f:\n",
    "    modelo_enfermeria_arima=pickle.load(f)"
   ]
  },
  {
   "cell_type": "code",
   "execution_count": 3,
   "id": "cea94a12",
   "metadata": {},
   "outputs": [],
   "source": [
    "with open('models/model_enfermeras_plantilla.pkl','rb') as f:\n",
    "    modelo_plantilla_profet=pickle.load(f)"
   ]
  },
  {
   "cell_type": "code",
   "execution_count": 4,
   "id": "b3821271",
   "metadata": {},
   "outputs": [],
   "source": [
    "with open('models/model_enfermeras_google.pkl','rb') as f:\n",
    "    modelo_google_arima=pickle.load(f)"
   ]
  },
  {
   "cell_type": "code",
   "execution_count": 5,
   "id": "5d27142c",
   "metadata": {},
   "outputs": [],
   "source": [
    "#Importamos dataset\n",
    "df = pd.read_csv('output/Enfer.csv', sep=',',encoding='latin1',decimal=\".\")\n",
    "ts=df.set_index('date').drop(['index','COLECTIVO','mes','año','casos_covid'],axis=1)"
   ]
  },
  {
   "cell_type": "code",
   "execution_count": 6,
   "id": "6f4f516b",
   "metadata": {},
   "outputs": [
    {
     "data": {
      "text/html": [
       "<div>\n",
       "<style scoped>\n",
       "    .dataframe tbody tr th:only-of-type {\n",
       "        vertical-align: middle;\n",
       "    }\n",
       "\n",
       "    .dataframe tbody tr th {\n",
       "        vertical-align: top;\n",
       "    }\n",
       "\n",
       "    .dataframe thead th {\n",
       "        text-align: right;\n",
       "    }\n",
       "</style>\n",
       "<table border=\"1\" class=\"dataframe\">\n",
       "  <thead>\n",
       "    <tr style=\"text-align: right;\">\n",
       "      <th></th>\n",
       "      <th>Festivos_intersemanales</th>\n",
       "      <th>Plantilla</th>\n",
       "      <th>Plantilla_de_baja</th>\n",
       "      <th>busquedas_google</th>\n",
       "      <th>cambio_normativa</th>\n",
       "    </tr>\n",
       "    <tr>\n",
       "      <th>date</th>\n",
       "      <th></th>\n",
       "      <th></th>\n",
       "      <th></th>\n",
       "      <th></th>\n",
       "      <th></th>\n",
       "    </tr>\n",
       "  </thead>\n",
       "  <tbody>\n",
       "    <tr>\n",
       "      <th>2003-01-01</th>\n",
       "      <td>2</td>\n",
       "      <td>861.654839</td>\n",
       "      <td>58.322581</td>\n",
       "      <td>18.896169</td>\n",
       "      <td>0</td>\n",
       "    </tr>\n",
       "    <tr>\n",
       "      <th>2003-02-01</th>\n",
       "      <td>1</td>\n",
       "      <td>847.775357</td>\n",
       "      <td>63.000000</td>\n",
       "      <td>29.335714</td>\n",
       "      <td>0</td>\n",
       "    </tr>\n",
       "    <tr>\n",
       "      <th>2003-03-01</th>\n",
       "      <td>0</td>\n",
       "      <td>857.704194</td>\n",
       "      <td>69.477419</td>\n",
       "      <td>18.494624</td>\n",
       "      <td>0</td>\n",
       "    </tr>\n",
       "    <tr>\n",
       "      <th>2003-04-01</th>\n",
       "      <td>2</td>\n",
       "      <td>869.806667</td>\n",
       "      <td>70.153333</td>\n",
       "      <td>16.111111</td>\n",
       "      <td>0</td>\n",
       "    </tr>\n",
       "    <tr>\n",
       "      <th>2003-05-01</th>\n",
       "      <td>1</td>\n",
       "      <td>855.794839</td>\n",
       "      <td>61.032258</td>\n",
       "      <td>16.741935</td>\n",
       "      <td>0</td>\n",
       "    </tr>\n",
       "    <tr>\n",
       "      <th>...</th>\n",
       "      <td>...</td>\n",
       "      <td>...</td>\n",
       "      <td>...</td>\n",
       "      <td>...</td>\n",
       "      <td>...</td>\n",
       "    </tr>\n",
       "    <tr>\n",
       "      <th>2021-10-01</th>\n",
       "      <td>1</td>\n",
       "      <td>1417.836129</td>\n",
       "      <td>65.073548</td>\n",
       "      <td>63.625000</td>\n",
       "      <td>0</td>\n",
       "    </tr>\n",
       "    <tr>\n",
       "      <th>2021-11-01</th>\n",
       "      <td>1</td>\n",
       "      <td>1412.164000</td>\n",
       "      <td>65.600333</td>\n",
       "      <td>73.666667</td>\n",
       "      <td>0</td>\n",
       "    </tr>\n",
       "    <tr>\n",
       "      <th>2021-12-01</th>\n",
       "      <td>2</td>\n",
       "      <td>1411.344516</td>\n",
       "      <td>92.730645</td>\n",
       "      <td>69.548387</td>\n",
       "      <td>0</td>\n",
       "    </tr>\n",
       "    <tr>\n",
       "      <th>2022-01-01</th>\n",
       "      <td>1</td>\n",
       "      <td>1380.308387</td>\n",
       "      <td>103.122258</td>\n",
       "      <td>77.032258</td>\n",
       "      <td>0</td>\n",
       "    </tr>\n",
       "    <tr>\n",
       "      <th>2022-02-01</th>\n",
       "      <td>1</td>\n",
       "      <td>1389.564286</td>\n",
       "      <td>53.991429</td>\n",
       "      <td>36.000000</td>\n",
       "      <td>0</td>\n",
       "    </tr>\n",
       "  </tbody>\n",
       "</table>\n",
       "<p>230 rows × 5 columns</p>\n",
       "</div>"
      ],
      "text/plain": [
       "            Festivos_intersemanales    Plantilla  Plantilla_de_baja  \\\n",
       "date                                                                  \n",
       "2003-01-01                        2   861.654839          58.322581   \n",
       "2003-02-01                        1   847.775357          63.000000   \n",
       "2003-03-01                        0   857.704194          69.477419   \n",
       "2003-04-01                        2   869.806667          70.153333   \n",
       "2003-05-01                        1   855.794839          61.032258   \n",
       "...                             ...          ...                ...   \n",
       "2021-10-01                        1  1417.836129          65.073548   \n",
       "2021-11-01                        1  1412.164000          65.600333   \n",
       "2021-12-01                        2  1411.344516          92.730645   \n",
       "2022-01-01                        1  1380.308387         103.122258   \n",
       "2022-02-01                        1  1389.564286          53.991429   \n",
       "\n",
       "            busquedas_google  cambio_normativa  \n",
       "date                                            \n",
       "2003-01-01         18.896169                 0  \n",
       "2003-02-01         29.335714                 0  \n",
       "2003-03-01         18.494624                 0  \n",
       "2003-04-01         16.111111                 0  \n",
       "2003-05-01         16.741935                 0  \n",
       "...                      ...               ...  \n",
       "2021-10-01         63.625000                 0  \n",
       "2021-11-01         73.666667                 0  \n",
       "2021-12-01         69.548387                 0  \n",
       "2022-01-01         77.032258                 0  \n",
       "2022-02-01         36.000000                 0  \n",
       "\n",
       "[230 rows x 5 columns]"
      ]
     },
     "execution_count": 6,
     "metadata": {},
     "output_type": "execute_result"
    }
   ],
   "source": [
    "ts"
   ]
  },
  {
   "cell_type": "markdown",
   "id": "950b890f",
   "metadata": {},
   "source": [
    "## Predicción valores exógenos"
   ]
  },
  {
   "cell_type": "markdown",
   "id": "9490049a",
   "metadata": {},
   "source": [
    "### Predicción plantilla"
   ]
  },
  {
   "cell_type": "code",
   "execution_count": 7,
   "id": "32f42a36",
   "metadata": {},
   "outputs": [
    {
     "name": "stderr",
     "output_type": "stream",
     "text": [
      "INFO:numexpr.utils:NumExpr defaulting to 8 threads.\n"
     ]
    }
   ],
   "source": [
    "\n",
    "ds= pd.DataFrame({'ds':pd.date_range(start='2022-03-01',\n",
    "                                  end='2022-12-01',\n",
    "                                  freq='MS')})\n",
    "yhat=modelo_plantilla_profet.predict(ds).yhat\n",
    "exogenos=pd.DataFrame(data=yhat.to_numpy(),index=ds['ds'],columns=['Plantilla'])"
   ]
  },
  {
   "cell_type": "markdown",
   "id": "953b17b3",
   "metadata": {},
   "source": [
    "### Predicción búsquedas google"
   ]
  },
  {
   "cell_type": "code",
   "execution_count": 8,
   "id": "fadaa247",
   "metadata": {},
   "outputs": [],
   "source": [
    "histórico_google=ts[['busquedas_google']][32:] #desde septiembre de 2005"
   ]
  },
  {
   "cell_type": "code",
   "execution_count": 9,
   "id": "5c3cce47",
   "metadata": {},
   "outputs": [
    {
     "name": "stderr",
     "output_type": "stream",
     "text": [
      "C:\\Users\\carlo\\anaconda3\\lib\\site-packages\\statsmodels\\tsa\\base\\tsa_model.py:536: ValueWarning: No frequency information was provided, so inferred frequency MS will be used.\n",
      "  warnings.warn('No frequency information was'\n"
     ]
    }
   ],
   "source": [
    "#Obtenemos modelo SARIMAX con parámetros obtenidos\n",
    "params = modelo_google_arima.order \n",
    "sparams = modelo_google_arima.order+(12,) \n",
    "#freq MS quiere decir frecuencia mensual\n",
    "smodelo_google_arima = SARIMAX(histórico_google, \n",
    "                order=params,\n",
    "                seasonal_order=sparams, \n",
    "                freq='MS'\n",
    "                )\n",
    "results_google=smodelo_google_arima.fit(maxiter=100)"
   ]
  },
  {
   "cell_type": "code",
   "execution_count": 10,
   "id": "8b1a5877",
   "metadata": {},
   "outputs": [],
   "source": [
    "y_pred_google=results_google.get_prediction(start='2022-03-01',end='2022-12-01').predicted_mean"
   ]
  },
  {
   "cell_type": "code",
   "execution_count": 11,
   "id": "74fc0c10",
   "metadata": {},
   "outputs": [],
   "source": [
    "exogenos['busquedas_google']=y_pred_google.to_numpy()"
   ]
  },
  {
   "cell_type": "code",
   "execution_count": 12,
   "id": "b0afd82a",
   "metadata": {},
   "outputs": [],
   "source": [
    "#exogeno_google=pd.DataFrame(data=y_pred_google.to_numpy(),index=ds['ds'],columns=['busquedas_google'])"
   ]
  },
  {
   "cell_type": "markdown",
   "id": "7e3c5b77",
   "metadata": {},
   "source": [
    "### Festivos_intersemanales"
   ]
  },
  {
   "cell_type": "code",
   "execution_count": 13,
   "id": "fba01010",
   "metadata": {},
   "outputs": [],
   "source": [
    "festivos_intersemanales=[0,2,1,2,0,1,0,1,1,3]"
   ]
  },
  {
   "cell_type": "code",
   "execution_count": 14,
   "id": "5bb7c3a2",
   "metadata": {},
   "outputs": [],
   "source": [
    "exogenos['Festivos_intersemanales']=np.array(festivos_intersemanales)\n",
    "#exogeno_fi=pd.DataFrame(data=np.array(festivos_intersemanales),index=ds['ds'],columns=['festivos_intersemanales'])"
   ]
  },
  {
   "cell_type": "markdown",
   "id": "19639ad3",
   "metadata": {},
   "source": [
    "### Cambio normativa"
   ]
  },
  {
   "cell_type": "code",
   "execution_count": 15,
   "id": "df20772a",
   "metadata": {},
   "outputs": [],
   "source": [
    "exogenos['cambio_normativa']=np.zeros((10,), dtype=int)\n",
    "#exogeno_normativa=pd.DataFrame(data=np.zeros((10,), dtype=int),index=ds['ds'],columns=['cambio_normativa'])"
   ]
  },
  {
   "cell_type": "code",
   "execution_count": 16,
   "id": "2f5f500a",
   "metadata": {},
   "outputs": [
    {
     "data": {
      "text/html": [
       "<div>\n",
       "<style scoped>\n",
       "    .dataframe tbody tr th:only-of-type {\n",
       "        vertical-align: middle;\n",
       "    }\n",
       "\n",
       "    .dataframe tbody tr th {\n",
       "        vertical-align: top;\n",
       "    }\n",
       "\n",
       "    .dataframe thead th {\n",
       "        text-align: right;\n",
       "    }\n",
       "</style>\n",
       "<table border=\"1\" class=\"dataframe\">\n",
       "  <thead>\n",
       "    <tr style=\"text-align: right;\">\n",
       "      <th></th>\n",
       "      <th>Plantilla</th>\n",
       "      <th>busquedas_google</th>\n",
       "      <th>Festivos_intersemanales</th>\n",
       "      <th>cambio_normativa</th>\n",
       "    </tr>\n",
       "    <tr>\n",
       "      <th>ds</th>\n",
       "      <th></th>\n",
       "      <th></th>\n",
       "      <th></th>\n",
       "      <th></th>\n",
       "    </tr>\n",
       "  </thead>\n",
       "  <tbody>\n",
       "    <tr>\n",
       "      <th>2022-03-01</th>\n",
       "      <td>1414.749051</td>\n",
       "      <td>32.041407</td>\n",
       "      <td>0</td>\n",
       "      <td>0</td>\n",
       "    </tr>\n",
       "    <tr>\n",
       "      <th>2022-04-01</th>\n",
       "      <td>1424.477187</td>\n",
       "      <td>34.455467</td>\n",
       "      <td>2</td>\n",
       "      <td>0</td>\n",
       "    </tr>\n",
       "    <tr>\n",
       "      <th>2022-05-01</th>\n",
       "      <td>1424.539009</td>\n",
       "      <td>35.252458</td>\n",
       "      <td>1</td>\n",
       "      <td>0</td>\n",
       "    </tr>\n",
       "    <tr>\n",
       "      <th>2022-06-01</th>\n",
       "      <td>1440.134477</td>\n",
       "      <td>34.891548</td>\n",
       "      <td>2</td>\n",
       "      <td>0</td>\n",
       "    </tr>\n",
       "    <tr>\n",
       "      <th>2022-07-01</th>\n",
       "      <td>1488.939250</td>\n",
       "      <td>38.560614</td>\n",
       "      <td>0</td>\n",
       "      <td>0</td>\n",
       "    </tr>\n",
       "    <tr>\n",
       "      <th>2022-08-01</th>\n",
       "      <td>1501.963484</td>\n",
       "      <td>36.798456</td>\n",
       "      <td>1</td>\n",
       "      <td>0</td>\n",
       "    </tr>\n",
       "    <tr>\n",
       "      <th>2022-09-01</th>\n",
       "      <td>1493.434563</td>\n",
       "      <td>39.918427</td>\n",
       "      <td>0</td>\n",
       "      <td>0</td>\n",
       "    </tr>\n",
       "    <tr>\n",
       "      <th>2022-10-01</th>\n",
       "      <td>1474.896910</td>\n",
       "      <td>55.157593</td>\n",
       "      <td>1</td>\n",
       "      <td>0</td>\n",
       "    </tr>\n",
       "    <tr>\n",
       "      <th>2022-11-01</th>\n",
       "      <td>1485.177965</td>\n",
       "      <td>50.987581</td>\n",
       "      <td>1</td>\n",
       "      <td>0</td>\n",
       "    </tr>\n",
       "    <tr>\n",
       "      <th>2022-12-01</th>\n",
       "      <td>1494.404741</td>\n",
       "      <td>47.132902</td>\n",
       "      <td>3</td>\n",
       "      <td>0</td>\n",
       "    </tr>\n",
       "  </tbody>\n",
       "</table>\n",
       "</div>"
      ],
      "text/plain": [
       "              Plantilla  busquedas_google  Festivos_intersemanales  \\\n",
       "ds                                                                   \n",
       "2022-03-01  1414.749051         32.041407                        0   \n",
       "2022-04-01  1424.477187         34.455467                        2   \n",
       "2022-05-01  1424.539009         35.252458                        1   \n",
       "2022-06-01  1440.134477         34.891548                        2   \n",
       "2022-07-01  1488.939250         38.560614                        0   \n",
       "2022-08-01  1501.963484         36.798456                        1   \n",
       "2022-09-01  1493.434563         39.918427                        0   \n",
       "2022-10-01  1474.896910         55.157593                        1   \n",
       "2022-11-01  1485.177965         50.987581                        1   \n",
       "2022-12-01  1494.404741         47.132902                        3   \n",
       "\n",
       "            cambio_normativa  \n",
       "ds                            \n",
       "2022-03-01                 0  \n",
       "2022-04-01                 0  \n",
       "2022-05-01                 0  \n",
       "2022-06-01                 0  \n",
       "2022-07-01                 0  \n",
       "2022-08-01                 0  \n",
       "2022-09-01                 0  \n",
       "2022-10-01                 0  \n",
       "2022-11-01                 0  \n",
       "2022-12-01                 0  "
      ]
     },
     "execution_count": 16,
     "metadata": {},
     "output_type": "execute_result"
    }
   ],
   "source": [
    "exogenos"
   ]
  },
  {
   "cell_type": "markdown",
   "id": "9f425620",
   "metadata": {},
   "source": [
    "## Predicción valor objetivo"
   ]
  },
  {
   "cell_type": "markdown",
   "id": "5d580f6d",
   "metadata": {},
   "source": [
    "### Vuelvo a entrenar el modelo con valores históricos"
   ]
  },
  {
   "cell_type": "code",
   "execution_count": 17,
   "id": "74e3bd86",
   "metadata": {},
   "outputs": [
    {
     "data": {
      "text/html": [
       "<div>\n",
       "<style scoped>\n",
       "    .dataframe tbody tr th:only-of-type {\n",
       "        vertical-align: middle;\n",
       "    }\n",
       "\n",
       "    .dataframe tbody tr th {\n",
       "        vertical-align: top;\n",
       "    }\n",
       "\n",
       "    .dataframe thead th {\n",
       "        text-align: right;\n",
       "    }\n",
       "</style>\n",
       "<table border=\"1\" class=\"dataframe\">\n",
       "  <thead>\n",
       "    <tr style=\"text-align: right;\">\n",
       "      <th></th>\n",
       "      <th>Festivos_intersemanales</th>\n",
       "      <th>Plantilla</th>\n",
       "      <th>Plantilla_de_baja</th>\n",
       "      <th>busquedas_google</th>\n",
       "      <th>cambio_normativa</th>\n",
       "    </tr>\n",
       "    <tr>\n",
       "      <th>date</th>\n",
       "      <th></th>\n",
       "      <th></th>\n",
       "      <th></th>\n",
       "      <th></th>\n",
       "      <th></th>\n",
       "    </tr>\n",
       "  </thead>\n",
       "  <tbody>\n",
       "    <tr>\n",
       "      <th>2003-01-01</th>\n",
       "      <td>2</td>\n",
       "      <td>861.654839</td>\n",
       "      <td>58.322581</td>\n",
       "      <td>18.896169</td>\n",
       "      <td>0</td>\n",
       "    </tr>\n",
       "    <tr>\n",
       "      <th>2003-02-01</th>\n",
       "      <td>1</td>\n",
       "      <td>847.775357</td>\n",
       "      <td>63.000000</td>\n",
       "      <td>29.335714</td>\n",
       "      <td>0</td>\n",
       "    </tr>\n",
       "    <tr>\n",
       "      <th>2003-03-01</th>\n",
       "      <td>0</td>\n",
       "      <td>857.704194</td>\n",
       "      <td>69.477419</td>\n",
       "      <td>18.494624</td>\n",
       "      <td>0</td>\n",
       "    </tr>\n",
       "    <tr>\n",
       "      <th>2003-04-01</th>\n",
       "      <td>2</td>\n",
       "      <td>869.806667</td>\n",
       "      <td>70.153333</td>\n",
       "      <td>16.111111</td>\n",
       "      <td>0</td>\n",
       "    </tr>\n",
       "    <tr>\n",
       "      <th>2003-05-01</th>\n",
       "      <td>1</td>\n",
       "      <td>855.794839</td>\n",
       "      <td>61.032258</td>\n",
       "      <td>16.741935</td>\n",
       "      <td>0</td>\n",
       "    </tr>\n",
       "    <tr>\n",
       "      <th>...</th>\n",
       "      <td>...</td>\n",
       "      <td>...</td>\n",
       "      <td>...</td>\n",
       "      <td>...</td>\n",
       "      <td>...</td>\n",
       "    </tr>\n",
       "    <tr>\n",
       "      <th>2021-10-01</th>\n",
       "      <td>1</td>\n",
       "      <td>1417.836129</td>\n",
       "      <td>65.073548</td>\n",
       "      <td>63.625000</td>\n",
       "      <td>0</td>\n",
       "    </tr>\n",
       "    <tr>\n",
       "      <th>2021-11-01</th>\n",
       "      <td>1</td>\n",
       "      <td>1412.164000</td>\n",
       "      <td>65.600333</td>\n",
       "      <td>73.666667</td>\n",
       "      <td>0</td>\n",
       "    </tr>\n",
       "    <tr>\n",
       "      <th>2021-12-01</th>\n",
       "      <td>2</td>\n",
       "      <td>1411.344516</td>\n",
       "      <td>92.730645</td>\n",
       "      <td>69.548387</td>\n",
       "      <td>0</td>\n",
       "    </tr>\n",
       "    <tr>\n",
       "      <th>2022-01-01</th>\n",
       "      <td>1</td>\n",
       "      <td>1380.308387</td>\n",
       "      <td>103.122258</td>\n",
       "      <td>77.032258</td>\n",
       "      <td>0</td>\n",
       "    </tr>\n",
       "    <tr>\n",
       "      <th>2022-02-01</th>\n",
       "      <td>1</td>\n",
       "      <td>1389.564286</td>\n",
       "      <td>53.991429</td>\n",
       "      <td>36.000000</td>\n",
       "      <td>0</td>\n",
       "    </tr>\n",
       "  </tbody>\n",
       "</table>\n",
       "<p>230 rows × 5 columns</p>\n",
       "</div>"
      ],
      "text/plain": [
       "            Festivos_intersemanales    Plantilla  Plantilla_de_baja  \\\n",
       "date                                                                  \n",
       "2003-01-01                        2   861.654839          58.322581   \n",
       "2003-02-01                        1   847.775357          63.000000   \n",
       "2003-03-01                        0   857.704194          69.477419   \n",
       "2003-04-01                        2   869.806667          70.153333   \n",
       "2003-05-01                        1   855.794839          61.032258   \n",
       "...                             ...          ...                ...   \n",
       "2021-10-01                        1  1417.836129          65.073548   \n",
       "2021-11-01                        1  1412.164000          65.600333   \n",
       "2021-12-01                        2  1411.344516          92.730645   \n",
       "2022-01-01                        1  1380.308387         103.122258   \n",
       "2022-02-01                        1  1389.564286          53.991429   \n",
       "\n",
       "            busquedas_google  cambio_normativa  \n",
       "date                                            \n",
       "2003-01-01         18.896169                 0  \n",
       "2003-02-01         29.335714                 0  \n",
       "2003-03-01         18.494624                 0  \n",
       "2003-04-01         16.111111                 0  \n",
       "2003-05-01         16.741935                 0  \n",
       "...                      ...               ...  \n",
       "2021-10-01         63.625000                 0  \n",
       "2021-11-01         73.666667                 0  \n",
       "2021-12-01         69.548387                 0  \n",
       "2022-01-01         77.032258                 0  \n",
       "2022-02-01         36.000000                 0  \n",
       "\n",
       "[230 rows x 5 columns]"
      ]
     },
     "execution_count": 17,
     "metadata": {},
     "output_type": "execute_result"
    }
   ],
   "source": [
    "ts"
   ]
  },
  {
   "cell_type": "code",
   "execution_count": 18,
   "id": "77bc4a4b",
   "metadata": {},
   "outputs": [],
   "source": [
    "endogena_hist=ts[['Plantilla_de_baja']]\n",
    "exogenas_hist=ts[['Plantilla','busquedas_google','Festivos_intersemanales','cambio_normativa']]"
   ]
  },
  {
   "cell_type": "code",
   "execution_count": 19,
   "id": "7dd73606",
   "metadata": {},
   "outputs": [
    {
     "name": "stderr",
     "output_type": "stream",
     "text": [
      "C:\\Users\\carlo\\anaconda3\\lib\\site-packages\\statsmodels\\tsa\\base\\tsa_model.py:536: ValueWarning: No frequency information was provided, so inferred frequency MS will be used.\n",
      "  warnings.warn('No frequency information was'\n",
      "C:\\Users\\carlo\\anaconda3\\lib\\site-packages\\statsmodels\\tsa\\statespace\\sarimax.py:1009: UserWarning: Non-invertible starting seasonal moving average Using zeros as starting parameters.\n",
      "  warn('Non-invertible starting seasonal moving average'\n"
     ]
    }
   ],
   "source": [
    "#Obtenemos modelo SARIMAX con parámetros obtenidos\n",
    "params = modelo_enfermeria_arima.order \n",
    "sparams = modelo_enfermeria_arima.order+(12,) \n",
    "#freq MS quiere decir frecuencia mensual\n",
    "smodel = SARIMAX(endogena_hist, \n",
    "                order=params,\n",
    "                exog=exogenas_hist,\n",
    "                seasonal_order=sparams, \n",
    "                freq='MS'\n",
    "                )\n",
    "results=smodel.fit(maxiter=1000)"
   ]
  },
  {
   "cell_type": "markdown",
   "id": "1561b1c5",
   "metadata": {},
   "source": [
    "### Hago predicción a futuro"
   ]
  },
  {
   "cell_type": "code",
   "execution_count": 20,
   "id": "a07445b4",
   "metadata": {},
   "outputs": [],
   "source": [
    "#Obtengo predicciónes y intervalos de confianza\n",
    "y_pred_inf=results.get_prediction(start='2022-03-01',end='2022-12-01',exog=exogenos)\n",
    "y_pred_media=results.get_prediction(start='2022-03-01',end='2022-12-01',exog=exogenos).predicted_mean\n",
    "intervalos=y_pred_inf.conf_int()"
   ]
  },
  {
   "cell_type": "code",
   "execution_count": 21,
   "id": "479e7e7e",
   "metadata": {},
   "outputs": [
    {
     "data": {
      "text/plain": [
       "<matplotlib.collections.PolyCollection at 0x291fa1f5550>"
      ]
     },
     "execution_count": 21,
     "metadata": {},
     "output_type": "execute_result"
    },
    {
     "data": {
      "image/png": "[encoded data removed]",
      "text/plain": [
       "<Figure size 1080x432 with 1 Axes>"
      ]
     },
     "metadata": {
      "needs_background": "light"
     },
     "output_type": "display_data"
    }
   ],
   "source": [
    "#Dibujo las resultados con intérvalo de confianza\n",
    "plt.rcParams['figure.figsize']=(15,6)\n",
    "ds=y_pred_media.reset_index()\n",
    "#data\n",
    "x = ds['index']\n",
    "y = ds['predicted_mean']\n",
    "#confidence interval\n",
    "ci_low=intervalos['lower Plantilla_de_baja']\n",
    "ci_upp=intervalos['upper Plantilla_de_baja']\n",
    "fig, ax = plt.subplots()\n",
    "ax.plot(x,y)\n",
    "ax.fill_between(x, ci_low, ci_upp, color='b', alpha=.1)"
   ]
  },
  {
   "cell_type": "code",
   "execution_count": 22,
   "id": "e1ba4b61",
   "metadata": {},
   "outputs": [
    {
     "data": {
      "text/plain": [
       "2022-03-01    58.599020\n",
       "2022-04-01    76.079374\n",
       "2022-05-01    69.729587\n",
       "2022-06-01    63.673689\n",
       "2022-07-01    61.267036\n",
       "2022-08-01    56.797375\n",
       "2022-09-01    63.475860\n",
       "2022-10-01    69.519614\n",
       "2022-11-01    72.501601\n",
       "2022-12-01    76.939839\n",
       "Freq: MS, Name: predicted_mean, dtype: float64"
      ]
     },
     "execution_count": 22,
     "metadata": {},
     "output_type": "execute_result"
    }
   ],
   "source": [
    "y_pred_media"
   ]
  },
  {
   "cell_type": "code",
   "execution_count": 23,
   "id": "1afa91ee",
   "metadata": {},
   "outputs": [
    {
     "data": {
      "text/html": [
       "<div>\n",
       "<style scoped>\n",
       "    .dataframe tbody tr th:only-of-type {\n",
       "        vertical-align: middle;\n",
       "    }\n",
       "\n",
       "    .dataframe tbody tr th {\n",
       "        vertical-align: top;\n",
       "    }\n",
       "\n",
       "    .dataframe thead th {\n",
       "        text-align: right;\n",
       "    }\n",
       "</style>\n",
       "<table border=\"1\" class=\"dataframe\">\n",
       "  <thead>\n",
       "    <tr style=\"text-align: right;\">\n",
       "      <th></th>\n",
       "      <th>lower Plantilla_de_baja</th>\n",
       "      <th>upper Plantilla_de_baja</th>\n",
       "    </tr>\n",
       "  </thead>\n",
       "  <tbody>\n",
       "    <tr>\n",
       "      <th>2022-03-01</th>\n",
       "      <td>44.118609</td>\n",
       "      <td>73.079431</td>\n",
       "    </tr>\n",
       "    <tr>\n",
       "      <th>2022-04-01</th>\n",
       "      <td>54.110048</td>\n",
       "      <td>98.048701</td>\n",
       "    </tr>\n",
       "    <tr>\n",
       "      <th>2022-05-01</th>\n",
       "      <td>45.691846</td>\n",
       "      <td>93.767328</td>\n",
       "    </tr>\n",
       "    <tr>\n",
       "      <th>2022-06-01</th>\n",
       "      <td>38.727692</td>\n",
       "      <td>88.619686</td>\n",
       "    </tr>\n",
       "    <tr>\n",
       "      <th>2022-07-01</th>\n",
       "      <td>35.500880</td>\n",
       "      <td>87.033192</td>\n",
       "    </tr>\n",
       "    <tr>\n",
       "      <th>2022-08-01</th>\n",
       "      <td>30.478301</td>\n",
       "      <td>83.116449</td>\n",
       "    </tr>\n",
       "    <tr>\n",
       "      <th>2022-09-01</th>\n",
       "      <td>36.417272</td>\n",
       "      <td>90.534448</td>\n",
       "    </tr>\n",
       "    <tr>\n",
       "      <th>2022-10-01</th>\n",
       "      <td>41.906350</td>\n",
       "      <td>97.132877</td>\n",
       "    </tr>\n",
       "    <tr>\n",
       "      <th>2022-11-01</th>\n",
       "      <td>44.209086</td>\n",
       "      <td>100.794116</td>\n",
       "    </tr>\n",
       "    <tr>\n",
       "      <th>2022-12-01</th>\n",
       "      <td>48.097826</td>\n",
       "      <td>105.781853</td>\n",
       "    </tr>\n",
       "  </tbody>\n",
       "</table>\n",
       "</div>"
      ],
      "text/plain": [
       "            lower Plantilla_de_baja  upper Plantilla_de_baja\n",
       "2022-03-01                44.118609                73.079431\n",
       "2022-04-01                54.110048                98.048701\n",
       "2022-05-01                45.691846                93.767328\n",
       "2022-06-01                38.727692                88.619686\n",
       "2022-07-01                35.500880                87.033192\n",
       "2022-08-01                30.478301                83.116449\n",
       "2022-09-01                36.417272                90.534448\n",
       "2022-10-01                41.906350                97.132877\n",
       "2022-11-01                44.209086               100.794116\n",
       "2022-12-01                48.097826               105.781853"
      ]
     },
     "execution_count": 23,
     "metadata": {},
     "output_type": "execute_result"
    }
   ],
   "source": [
    "intervalos"
   ]
  },
  {
   "cell_type": "markdown",
   "id": "39cba6de",
   "metadata": {},
   "source": [
    "## Obtener coste medio mensual por sustitución enfermera/o"
   ]
  },
  {
   "cell_type": "code",
   "execution_count": 24,
   "id": "7e8b993c",
   "metadata": {},
   "outputs": [],
   "source": [
    "#Valor de tabla retributiva 2022 para DUI de nivel 2:\n",
    "coste_mensual_bruto=1071.06+528.7+620.91+(781.15+528.7+620.91)/6\n",
    "#No se tiene en cuenta importes de antiguedad como la carrera profesional y triennios ni atención continuada"
   ]
  },
  {
   "cell_type": "code",
   "execution_count": 25,
   "id": "a39f0f68",
   "metadata": {},
   "outputs": [
    {
     "data": {
      "text/plain": [
       "2542.463333333333"
      ]
     },
     "execution_count": 25,
     "metadata": {},
     "output_type": "execute_result"
    }
   ],
   "source": [
    "coste_mensual_bruto"
   ]
  },
  {
   "cell_type": "code",
   "execution_count": 26,
   "id": "7b5fac3a",
   "metadata": {},
   "outputs": [],
   "source": [
    "inf=y_pred_media.to_frame(name='plantilla_it')"
   ]
  },
  {
   "cell_type": "code",
   "execution_count": 27,
   "id": "bf9218a0",
   "metadata": {},
   "outputs": [],
   "source": [
    "inf['coste_mensual']=inf*coste_mensual_bruto"
   ]
  },
  {
   "cell_type": "code",
   "execution_count": 28,
   "id": "c92e0c79",
   "metadata": {},
   "outputs": [
    {
     "data": {
      "text/html": [
       "<div>\n",
       "<style scoped>\n",
       "    .dataframe tbody tr th:only-of-type {\n",
       "        vertical-align: middle;\n",
       "    }\n",
       "\n",
       "    .dataframe tbody tr th {\n",
       "        vertical-align: top;\n",
       "    }\n",
       "\n",
       "    .dataframe thead th {\n",
       "        text-align: right;\n",
       "    }\n",
       "</style>\n",
       "<table border=\"1\" class=\"dataframe\">\n",
       "  <thead>\n",
       "    <tr style=\"text-align: right;\">\n",
       "      <th></th>\n",
       "      <th>plantilla_it</th>\n",
       "      <th>coste_mensual</th>\n",
       "    </tr>\n",
       "  </thead>\n",
       "  <tbody>\n",
       "    <tr>\n",
       "      <th>2022-03-01</th>\n",
       "      <td>58.599020</td>\n",
       "      <td>148985.859939</td>\n",
       "    </tr>\n",
       "    <tr>\n",
       "      <th>2022-04-01</th>\n",
       "      <td>76.079374</td>\n",
       "      <td>193429.020073</td>\n",
       "    </tr>\n",
       "    <tr>\n",
       "      <th>2022-05-01</th>\n",
       "      <td>69.729587</td>\n",
       "      <td>177284.918339</td>\n",
       "    </tr>\n",
       "    <tr>\n",
       "      <th>2022-06-01</th>\n",
       "      <td>63.673689</td>\n",
       "      <td>161888.019655</td>\n",
       "    </tr>\n",
       "    <tr>\n",
       "      <th>2022-07-01</th>\n",
       "      <td>61.267036</td>\n",
       "      <td>155769.192416</td>\n",
       "    </tr>\n",
       "    <tr>\n",
       "      <th>2022-08-01</th>\n",
       "      <td>56.797375</td>\n",
       "      <td>144405.242935</td>\n",
       "    </tr>\n",
       "    <tr>\n",
       "      <th>2022-09-01</th>\n",
       "      <td>63.475860</td>\n",
       "      <td>161385.045883</td>\n",
       "    </tr>\n",
       "    <tr>\n",
       "      <th>2022-10-01</th>\n",
       "      <td>69.519614</td>\n",
       "      <td>176751.068705</td>\n",
       "    </tr>\n",
       "    <tr>\n",
       "      <th>2022-11-01</th>\n",
       "      <td>72.501601</td>\n",
       "      <td>184332.662529</td>\n",
       "    </tr>\n",
       "    <tr>\n",
       "      <th>2022-12-01</th>\n",
       "      <td>76.939839</td>\n",
       "      <td>195616.720623</td>\n",
       "    </tr>\n",
       "  </tbody>\n",
       "</table>\n",
       "</div>"
      ],
      "text/plain": [
       "            plantilla_it  coste_mensual\n",
       "2022-03-01     58.599020  148985.859939\n",
       "2022-04-01     76.079374  193429.020073\n",
       "2022-05-01     69.729587  177284.918339\n",
       "2022-06-01     63.673689  161888.019655\n",
       "2022-07-01     61.267036  155769.192416\n",
       "2022-08-01     56.797375  144405.242935\n",
       "2022-09-01     63.475860  161385.045883\n",
       "2022-10-01     69.519614  176751.068705\n",
       "2022-11-01     72.501601  184332.662529\n",
       "2022-12-01     76.939839  195616.720623"
      ]
     },
     "execution_count": 28,
     "metadata": {},
     "output_type": "execute_result"
    }
   ],
   "source": [
    "inf"
   ]
  },
  {
   "cell_type": "markdown",
   "id": "553cccbf",
   "metadata": {},
   "source": [
    "## Calcular cobertura a partir de coste_medio_mensual, previsión de plantilla de baja y crédito presupuestario"
   ]
  },
  {
   "cell_type": "code",
   "execution_count": 29,
   "id": "4cebe261",
   "metadata": {},
   "outputs": [],
   "source": [
    "inf_cobertura_total=inf['coste_mensual'].sum()"
   ]
  },
  {
   "cell_type": "code",
   "execution_count": 30,
   "id": "1b2a781e",
   "metadata": {},
   "outputs": [],
   "source": [
    "#Credito inicial en bolsa de substituciones/eventuales para Hospital Germans Trias i Pujol 2022:\n",
    "Importe_inicial=7879362.4+7930089.1\n",
    "Exceso_permitido=12777320.97\n",
    "credito_habilitado_2022=Importe_inicial+Exceso_permitido"
   ]
  },
  {
   "cell_type": "code",
   "execution_count": 31,
   "id": "c1e3ca02",
   "metadata": {},
   "outputs": [],
   "source": [
    "#Gasto acumulado en subtituciones/eventuales\n",
    "#gasto_enero\n",
    "#gasto_febrero\n",
    "gasto_en_substituciones_event_acum=4194367.95"
   ]
  },
  {
   "cell_type": "code",
   "execution_count": 32,
   "id": "b7c75bba",
   "metadata": {},
   "outputs": [],
   "source": [
    "credito_disponible=credito_habilitado_2022-gasto_en_substituciones_event_acum"
   ]
  },
  {
   "cell_type": "code",
   "execution_count": 33,
   "id": "b8925416",
   "metadata": {},
   "outputs": [],
   "source": [
    "credito_disponible_su=credito_disponible*0.5 \n",
    "#el resto va para programas (25%), cobertura vacaciones (13%) y refuerzos (12%)"
   ]
  },
  {
   "attachments": {
    "image.png": {
     "image/png": "[encoded data removed]"
    }
   },
   "cell_type": "markdown",
   "id": "787fddeb",
   "metadata": {},
   "source": [
    "![image.png](attachment:image.png)"
   ]
  },
  {
   "cell_type": "code",
   "execution_count": 34,
   "id": "d60e111b",
   "metadata": {},
   "outputs": [],
   "source": [
    "credito_disponible_su_it=credito_disponible_su*0.69\n",
    "#el resto va para sustituciones de bajas maternales (10%) y reducciones de jornadas (21%)"
   ]
  },
  {
   "cell_type": "code",
   "execution_count": 35,
   "id": "8722058b",
   "metadata": {},
   "outputs": [],
   "source": [
    "credito_disponible_su_it_enfermeras=credito_disponible_su_it*0.36\n",
    "#El 36% porque es la propoción media de personal enfermero de baja en el histórico"
   ]
  },
  {
   "cell_type": "code",
   "execution_count": 36,
   "id": "20d0b1d2",
   "metadata": {},
   "outputs": [
    {
     "data": {
      "text/plain": [
       "1.7822399914507805"
      ]
     },
     "execution_count": 36,
     "metadata": {},
     "output_type": "execute_result"
    }
   ],
   "source": [
    "Cobertura_permitida=credito_disponible_su_it_enfermeras/inf_cobertura_total\n",
    "Cobertura_permitida"
   ]
  },
  {
   "cell_type": "code",
   "execution_count": 37,
   "id": "6713d921",
   "metadata": {},
   "outputs": [
    {
     "data": {
      "text/plain": [
       "'Con el crédito disponible de 3,029,536.64 € se pueden cubrir el 178% de las bajas por IT previstas hasta final de año'"
      ]
     },
     "execution_count": 37,
     "metadata": {},
     "output_type": "execute_result"
    }
   ],
   "source": [
    "f'Con el crédito disponible de {credito_disponible_su_it_enfermeras:3,.2f} € se pueden cubrir el {Cobertura_permitida:.0%} de las bajas por IT previstas hasta final de año'"
   ]
  },
  {
   "cell_type": "code",
   "execution_count": 38,
   "id": "b5295b0d",
   "metadata": {},
   "outputs": [],
   "source": [
    "#formula para saber la ampliación o reducción de crédito necesária para cubrir X% de bajas\n",
    "def estado_credito_SU(cobertura_deseada):\n",
    "    '''cobretura expresada en %'''\n",
    "    credito_necesario=inf_cobertura_total*cobertura_deseada/100\n",
    "    saldo=credito_disponible_su_it_enfermeras-credito_necesario\n",
    "    if saldo>0:\n",
    "        return f'Se estima que sobrará {saldo:3,.2f} € en la bolsa de substituciones en IT para el colectivo de enfermeras a final de año.'\n",
    "    else:\n",
    "        return f'Se estima que faltará {-saldo:3,.2f} € en la bolsa de substituciones en IT para el colectivo de enfermeras a final de año.'\n"
   ]
  },
  {
   "cell_type": "code",
   "execution_count": 39,
   "id": "612d71c2",
   "metadata": {},
   "outputs": [
    {
     "data": {
      "text/plain": [
       "'Se estima que sobrará 1,329,688.89 € en la bolsa de substituciones en IT para el colectivo de enfermeras a final de año.'"
      ]
     },
     "execution_count": 39,
     "metadata": {},
     "output_type": "execute_result"
    }
   ],
   "source": [
    "estado_credito_SU(100)"
   ]
  }
 ],
 "metadata": {
  "kernelspec": {
   "display_name": "Python 3",
   "language": "python",
   "name": "python3"
  },
  "language_info": {
   "codemirror_mode": {
    "name": "ipython",
    "version": 3
   },
   "file_extension": ".py",
   "mimetype": "text/x-python",
   "name": "python",
   "nbconvert_exporter": "python",
   "pygments_lexer": "ipython3",
   "version": "3.8.8"
  },
  "toc": {
   "base_numbering": 1,
   "nav_menu": {},
   "number_sections": true,
   "sideBar": true,
   "skip_h1_title": false,
   "title_cell": "Table of Contents",
   "title_sidebar": "Contents",
   "toc_cell": false,
   "toc_position": {},
   "toc_section_display": true,
   "toc_window_display": false
  },
  "varInspector": {
   "cols": {
    "lenName": 16,
    "lenType": 16,
    "lenVar": 40
   },
   "kernels_config": {
    "python": {
     "delete_cmd_postfix": "",
     "delete_cmd_prefix": "del ",
     "library": "var_list.py",
     "varRefreshCmd": "print(var_dic_list())"
    },
    "r": {
     "delete_cmd_postfix": ") ",
     "delete_cmd_prefix": "rm(",
     "library": "var_list.r",
     "varRefreshCmd": "cat(var_dic_list()) "
    }
   },
   "types_to_exclude": [
    "module",
    "function",
    "builtin_function_or_method",
    "instance",
    "_Feature"
   ],
   "window_display": false
  }
 },
 "nbformat": 4,
 "nbformat_minor": 5
}
