{
 "cells": [
  {
   "cell_type": "code",
   "execution_count": 1,
   "id": "becce9e2",
   "metadata": {},
   "outputs": [],
   "source": [
    "import numpy as np\n",
    "import pandas as pd\n",
    "from statsmodels.tsa.statespace.sarimax import SARIMAX\n",
    "import pickle\n",
    "import matplotlib.pyplot as plt"
   ]
  },
  {
   "cell_type": "markdown",
   "id": "9e27ed93",
   "metadata": {},
   "source": [
    "## Importar modelo/s"
   ]
  },
  {
   "cell_type": "code",
   "execution_count": 2,
   "id": "c65762f9",
   "metadata": {},
   "outputs": [],
   "source": [
    "with open('models/model_enfermeras.pkl','rb') as f:\n",
    "    modelo_enfermeria_arima=pickle.load(f)"
   ]
  },
  {
   "cell_type": "code",
   "execution_count": 3,
   "id": "cea94a12",
   "metadata": {},
   "outputs": [],
   "source": [
    "with open('models/model_enfermeras_plantilla.pkl','rb') as f:\n",
    "    modelo_plantilla_profet=pickle.load(f)"
   ]
  },
  {
   "cell_type": "code",
   "execution_count": 4,
   "id": "b3821271",
   "metadata": {},
   "outputs": [],
   "source": [
    "with open('models/model_enfermeras_google.pkl','rb') as f:\n",
    "    modelo_google_arima=pickle.load(f)"
   ]
  },
  {
   "cell_type": "code",
   "execution_count": 5,
   "id": "5d27142c",
   "metadata": {},
   "outputs": [],
   "source": [
    "#Importamos dataset\n",
    "df = pd.read_csv('output/Enfer.csv', sep=',',encoding='latin1',decimal=\".\")\n",
    "ts=df.set_index('date').drop(['index','COLECTIVO','mes','año','casos_covid','cambio_normativa'],axis=1)"
   ]
  },
  {
   "cell_type": "code",
   "execution_count": 6,
   "id": "6f4f516b",
   "metadata": {},
   "outputs": [
    {
     "data": {
      "text/html": [
       "<div>\n",
       "<style scoped>\n",
       "    .dataframe tbody tr th:only-of-type {\n",
       "        vertical-align: middle;\n",
       "    }\n",
       "\n",
       "    .dataframe tbody tr th {\n",
       "        vertical-align: top;\n",
       "    }\n",
       "\n",
       "    .dataframe thead th {\n",
       "        text-align: right;\n",
       "    }\n",
       "</style>\n",
       "<table border=\"1\" class=\"dataframe\">\n",
       "  <thead>\n",
       "    <tr style=\"text-align: right;\">\n",
       "      <th></th>\n",
       "      <th>Festivos_intersemanales</th>\n",
       "      <th>Plantilla</th>\n",
       "      <th>Plantilla_de_baja</th>\n",
       "      <th>busquedas_google</th>\n",
       "    </tr>\n",
       "    <tr>\n",
       "      <th>date</th>\n",
       "      <th></th>\n",
       "      <th></th>\n",
       "      <th></th>\n",
       "      <th></th>\n",
       "    </tr>\n",
       "  </thead>\n",
       "  <tbody>\n",
       "    <tr>\n",
       "      <th>2003-01-01</th>\n",
       "      <td>2</td>\n",
       "      <td>861.654839</td>\n",
       "      <td>58.322581</td>\n",
       "      <td>16.799731</td>\n",
       "    </tr>\n",
       "    <tr>\n",
       "      <th>2003-02-01</th>\n",
       "      <td>1</td>\n",
       "      <td>847.775357</td>\n",
       "      <td>63.000000</td>\n",
       "      <td>29.345238</td>\n",
       "    </tr>\n",
       "    <tr>\n",
       "      <th>2003-03-01</th>\n",
       "      <td>0</td>\n",
       "      <td>857.704194</td>\n",
       "      <td>69.477419</td>\n",
       "      <td>17.731183</td>\n",
       "    </tr>\n",
       "    <tr>\n",
       "      <th>2003-04-01</th>\n",
       "      <td>2</td>\n",
       "      <td>869.806667</td>\n",
       "      <td>70.153333</td>\n",
       "      <td>11.233333</td>\n",
       "    </tr>\n",
       "    <tr>\n",
       "      <th>2003-05-01</th>\n",
       "      <td>1</td>\n",
       "      <td>855.794839</td>\n",
       "      <td>61.032258</td>\n",
       "      <td>10.311828</td>\n",
       "    </tr>\n",
       "    <tr>\n",
       "      <th>...</th>\n",
       "      <td>...</td>\n",
       "      <td>...</td>\n",
       "      <td>...</td>\n",
       "      <td>...</td>\n",
       "    </tr>\n",
       "    <tr>\n",
       "      <th>2021-10-01</th>\n",
       "      <td>1</td>\n",
       "      <td>1417.836129</td>\n",
       "      <td>65.073548</td>\n",
       "      <td>60.000000</td>\n",
       "    </tr>\n",
       "    <tr>\n",
       "      <th>2021-11-01</th>\n",
       "      <td>1</td>\n",
       "      <td>1412.164000</td>\n",
       "      <td>65.600333</td>\n",
       "      <td>71.433333</td>\n",
       "    </tr>\n",
       "    <tr>\n",
       "      <th>2021-12-01</th>\n",
       "      <td>2</td>\n",
       "      <td>1411.344516</td>\n",
       "      <td>92.730645</td>\n",
       "      <td>65.709677</td>\n",
       "    </tr>\n",
       "    <tr>\n",
       "      <th>2022-01-01</th>\n",
       "      <td>1</td>\n",
       "      <td>1380.308387</td>\n",
       "      <td>103.122258</td>\n",
       "      <td>54.645161</td>\n",
       "    </tr>\n",
       "    <tr>\n",
       "      <th>2022-02-01</th>\n",
       "      <td>1</td>\n",
       "      <td>1389.564286</td>\n",
       "      <td>53.991429</td>\n",
       "      <td>24.857143</td>\n",
       "    </tr>\n",
       "  </tbody>\n",
       "</table>\n",
       "<p>230 rows × 4 columns</p>\n",
       "</div>"
      ],
      "text/plain": [
       "            Festivos_intersemanales    Plantilla  Plantilla_de_baja  \\\n",
       "date                                                                  \n",
       "2003-01-01                        2   861.654839          58.322581   \n",
       "2003-02-01                        1   847.775357          63.000000   \n",
       "2003-03-01                        0   857.704194          69.477419   \n",
       "2003-04-01                        2   869.806667          70.153333   \n",
       "2003-05-01                        1   855.794839          61.032258   \n",
       "...                             ...          ...                ...   \n",
       "2021-10-01                        1  1417.836129          65.073548   \n",
       "2021-11-01                        1  1412.164000          65.600333   \n",
       "2021-12-01                        2  1411.344516          92.730645   \n",
       "2022-01-01                        1  1380.308387         103.122258   \n",
       "2022-02-01                        1  1389.564286          53.991429   \n",
       "\n",
       "            busquedas_google  \n",
       "date                          \n",
       "2003-01-01         16.799731  \n",
       "2003-02-01         29.345238  \n",
       "2003-03-01         17.731183  \n",
       "2003-04-01         11.233333  \n",
       "2003-05-01         10.311828  \n",
       "...                      ...  \n",
       "2021-10-01         60.000000  \n",
       "2021-11-01         71.433333  \n",
       "2021-12-01         65.709677  \n",
       "2022-01-01         54.645161  \n",
       "2022-02-01         24.857143  \n",
       "\n",
       "[230 rows x 4 columns]"
      ]
     },
     "execution_count": 6,
     "metadata": {},
     "output_type": "execute_result"
    }
   ],
   "source": [
    "ts"
   ]
  },
  {
   "cell_type": "markdown",
   "id": "950b890f",
   "metadata": {},
   "source": [
    "## Predicción valores exógenos"
   ]
  },
  {
   "cell_type": "markdown",
   "id": "9490049a",
   "metadata": {},
   "source": [
    "### Predicción plantilla"
   ]
  },
  {
   "cell_type": "code",
   "execution_count": 7,
   "id": "32f42a36",
   "metadata": {},
   "outputs": [
    {
     "name": "stderr",
     "output_type": "stream",
     "text": [
      "INFO:numexpr.utils:NumExpr defaulting to 8 threads.\n"
     ]
    }
   ],
   "source": [
    "\n",
    "ds= pd.DataFrame({'ds':pd.date_range(start='2022-03-01',\n",
    "                                  end='2022-12-01',\n",
    "                                  freq='MS')})\n",
    "yhat=modelo_plantilla_profet.predict(ds).yhat\n",
    "exogenos=pd.DataFrame(data=yhat.to_numpy(),index=ds['ds'],columns=['Plantilla'])"
   ]
  },
  {
   "cell_type": "markdown",
   "id": "953b17b3",
   "metadata": {},
   "source": [
    "### Predicción búsquedas google"
   ]
  },
  {
   "cell_type": "code",
   "execution_count": 8,
   "id": "fadaa247",
   "metadata": {},
   "outputs": [],
   "source": [
    "histórico_google=ts[['busquedas_google']][32:] #desde septiembre de 2005"
   ]
  },
  {
   "cell_type": "code",
   "execution_count": 9,
   "id": "5c3cce47",
   "metadata": {},
   "outputs": [
    {
     "name": "stderr",
     "output_type": "stream",
     "text": [
      "C:\\Users\\carlo\\anaconda3\\lib\\site-packages\\statsmodels\\tsa\\base\\tsa_model.py:536: ValueWarning: No frequency information was provided, so inferred frequency MS will be used.\n",
      "  warnings.warn('No frequency information was'\n"
     ]
    }
   ],
   "source": [
    "#Obtenemos modelo SARIMAX con parámetros obtenidos\n",
    "params = modelo_google_arima.order \n",
    "sparams = modelo_google_arima.order+(12,) \n",
    "#freq MS quiere decir frecuencia mensual\n",
    "smodelo_google_arima = SARIMAX(histórico_google, \n",
    "                order=params,\n",
    "                seasonal_order=sparams, \n",
    "                freq='MS'\n",
    "                )\n",
    "results_google=smodelo_google_arima.fit(maxiter=100)"
   ]
  },
  {
   "cell_type": "code",
   "execution_count": 10,
   "id": "8b1a5877",
   "metadata": {},
   "outputs": [],
   "source": [
    "y_pred_google=results_google.get_prediction(start='2022-03-01',end='2022-12-01').predicted_mean"
   ]
  },
  {
   "cell_type": "code",
   "execution_count": 11,
   "id": "74fc0c10",
   "metadata": {},
   "outputs": [],
   "source": [
    "exogenos['busquedas_google']=y_pred_google.to_numpy()"
   ]
  },
  {
   "cell_type": "code",
   "execution_count": 12,
   "id": "b0afd82a",
   "metadata": {},
   "outputs": [],
   "source": [
    "#exogeno_google=pd.DataFrame(data=y_pred_google.to_numpy(),index=ds['ds'],columns=['busquedas_google'])"
   ]
  },
  {
   "cell_type": "markdown",
   "id": "7e3c5b77",
   "metadata": {},
   "source": [
    "### Festivos_intersemanales"
   ]
  },
  {
   "cell_type": "code",
   "execution_count": 13,
   "id": "fba01010",
   "metadata": {},
   "outputs": [],
   "source": [
    "festivos_intersemanales=[0,2,1,2,0,1,0,1,1,3]"
   ]
  },
  {
   "cell_type": "code",
   "execution_count": 14,
   "id": "5bb7c3a2",
   "metadata": {},
   "outputs": [],
   "source": [
    "exogenos['Festivos_intersemanales']=np.array(festivos_intersemanales)\n",
    "#exogeno_fi=pd.DataFrame(data=np.array(festivos_intersemanales),index=ds['ds'],columns=['festivos_intersemanales'])"
   ]
  },
  {
   "cell_type": "code",
   "execution_count": 15,
   "id": "2f5f500a",
   "metadata": {},
   "outputs": [
    {
     "data": {
      "text/html": [
       "<div>\n",
       "<style scoped>\n",
       "    .dataframe tbody tr th:only-of-type {\n",
       "        vertical-align: middle;\n",
       "    }\n",
       "\n",
       "    .dataframe tbody tr th {\n",
       "        vertical-align: top;\n",
       "    }\n",
       "\n",
       "    .dataframe thead th {\n",
       "        text-align: right;\n",
       "    }\n",
       "</style>\n",
       "<table border=\"1\" class=\"dataframe\">\n",
       "  <thead>\n",
       "    <tr style=\"text-align: right;\">\n",
       "      <th></th>\n",
       "      <th>Plantilla</th>\n",
       "      <th>busquedas_google</th>\n",
       "      <th>Festivos_intersemanales</th>\n",
       "    </tr>\n",
       "    <tr>\n",
       "      <th>ds</th>\n",
       "      <th></th>\n",
       "      <th></th>\n",
       "      <th></th>\n",
       "    </tr>\n",
       "  </thead>\n",
       "  <tbody>\n",
       "    <tr>\n",
       "      <th>2022-03-01</th>\n",
       "      <td>1414.749051</td>\n",
       "      <td>23.291214</td>\n",
       "      <td>0</td>\n",
       "    </tr>\n",
       "    <tr>\n",
       "      <th>2022-04-01</th>\n",
       "      <td>1424.477187</td>\n",
       "      <td>25.367276</td>\n",
       "      <td>2</td>\n",
       "    </tr>\n",
       "    <tr>\n",
       "      <th>2022-05-01</th>\n",
       "      <td>1424.539009</td>\n",
       "      <td>24.563009</td>\n",
       "      <td>1</td>\n",
       "    </tr>\n",
       "    <tr>\n",
       "      <th>2022-06-01</th>\n",
       "      <td>1440.134477</td>\n",
       "      <td>22.715062</td>\n",
       "      <td>2</td>\n",
       "    </tr>\n",
       "    <tr>\n",
       "      <th>2022-07-01</th>\n",
       "      <td>1488.939250</td>\n",
       "      <td>26.101299</td>\n",
       "      <td>0</td>\n",
       "    </tr>\n",
       "    <tr>\n",
       "      <th>2022-08-01</th>\n",
       "      <td>1501.963484</td>\n",
       "      <td>24.707889</td>\n",
       "      <td>1</td>\n",
       "    </tr>\n",
       "    <tr>\n",
       "      <th>2022-09-01</th>\n",
       "      <td>1493.434563</td>\n",
       "      <td>28.016415</td>\n",
       "      <td>0</td>\n",
       "    </tr>\n",
       "    <tr>\n",
       "      <th>2022-10-01</th>\n",
       "      <td>1474.896910</td>\n",
       "      <td>45.128498</td>\n",
       "      <td>1</td>\n",
       "    </tr>\n",
       "    <tr>\n",
       "      <th>2022-11-01</th>\n",
       "      <td>1485.177965</td>\n",
       "      <td>44.728755</td>\n",
       "      <td>1</td>\n",
       "    </tr>\n",
       "    <tr>\n",
       "      <th>2022-12-01</th>\n",
       "      <td>1494.404741</td>\n",
       "      <td>42.147957</td>\n",
       "      <td>3</td>\n",
       "    </tr>\n",
       "  </tbody>\n",
       "</table>\n",
       "</div>"
      ],
      "text/plain": [
       "              Plantilla  busquedas_google  Festivos_intersemanales\n",
       "ds                                                                \n",
       "2022-03-01  1414.749051         23.291214                        0\n",
       "2022-04-01  1424.477187         25.367276                        2\n",
       "2022-05-01  1424.539009         24.563009                        1\n",
       "2022-06-01  1440.134477         22.715062                        2\n",
       "2022-07-01  1488.939250         26.101299                        0\n",
       "2022-08-01  1501.963484         24.707889                        1\n",
       "2022-09-01  1493.434563         28.016415                        0\n",
       "2022-10-01  1474.896910         45.128498                        1\n",
       "2022-11-01  1485.177965         44.728755                        1\n",
       "2022-12-01  1494.404741         42.147957                        3"
      ]
     },
     "execution_count": 15,
     "metadata": {},
     "output_type": "execute_result"
    }
   ],
   "source": [
    "exogenos"
   ]
  },
  {
   "cell_type": "markdown",
   "id": "9f425620",
   "metadata": {},
   "source": [
    "## Predicción valor objetivo"
   ]
  },
  {
   "cell_type": "markdown",
   "id": "5d580f6d",
   "metadata": {},
   "source": [
    "### Vuelvo a entrenar el modelo con valores históricos"
   ]
  },
  {
   "cell_type": "code",
   "execution_count": 16,
   "id": "74e3bd86",
   "metadata": {},
   "outputs": [
    {
     "data": {
      "text/html": [
       "<div>\n",
       "<style scoped>\n",
       "    .dataframe tbody tr th:only-of-type {\n",
       "        vertical-align: middle;\n",
       "    }\n",
       "\n",
       "    .dataframe tbody tr th {\n",
       "        vertical-align: top;\n",
       "    }\n",
       "\n",
       "    .dataframe thead th {\n",
       "        text-align: right;\n",
       "    }\n",
       "</style>\n",
       "<table border=\"1\" class=\"dataframe\">\n",
       "  <thead>\n",
       "    <tr style=\"text-align: right;\">\n",
       "      <th></th>\n",
       "      <th>Festivos_intersemanales</th>\n",
       "      <th>Plantilla</th>\n",
       "      <th>Plantilla_de_baja</th>\n",
       "      <th>busquedas_google</th>\n",
       "    </tr>\n",
       "    <tr>\n",
       "      <th>date</th>\n",
       "      <th></th>\n",
       "      <th></th>\n",
       "      <th></th>\n",
       "      <th></th>\n",
       "    </tr>\n",
       "  </thead>\n",
       "  <tbody>\n",
       "    <tr>\n",
       "      <th>2003-01-01</th>\n",
       "      <td>2</td>\n",
       "      <td>861.654839</td>\n",
       "      <td>58.322581</td>\n",
       "      <td>16.799731</td>\n",
       "    </tr>\n",
       "    <tr>\n",
       "      <th>2003-02-01</th>\n",
       "      <td>1</td>\n",
       "      <td>847.775357</td>\n",
       "      <td>63.000000</td>\n",
       "      <td>29.345238</td>\n",
       "    </tr>\n",
       "    <tr>\n",
       "      <th>2003-03-01</th>\n",
       "      <td>0</td>\n",
       "      <td>857.704194</td>\n",
       "      <td>69.477419</td>\n",
       "      <td>17.731183</td>\n",
       "    </tr>\n",
       "    <tr>\n",
       "      <th>2003-04-01</th>\n",
       "      <td>2</td>\n",
       "      <td>869.806667</td>\n",
       "      <td>70.153333</td>\n",
       "      <td>11.233333</td>\n",
       "    </tr>\n",
       "    <tr>\n",
       "      <th>2003-05-01</th>\n",
       "      <td>1</td>\n",
       "      <td>855.794839</td>\n",
       "      <td>61.032258</td>\n",
       "      <td>10.311828</td>\n",
       "    </tr>\n",
       "    <tr>\n",
       "      <th>...</th>\n",
       "      <td>...</td>\n",
       "      <td>...</td>\n",
       "      <td>...</td>\n",
       "      <td>...</td>\n",
       "    </tr>\n",
       "    <tr>\n",
       "      <th>2021-10-01</th>\n",
       "      <td>1</td>\n",
       "      <td>1417.836129</td>\n",
       "      <td>65.073548</td>\n",
       "      <td>60.000000</td>\n",
       "    </tr>\n",
       "    <tr>\n",
       "      <th>2021-11-01</th>\n",
       "      <td>1</td>\n",
       "      <td>1412.164000</td>\n",
       "      <td>65.600333</td>\n",
       "      <td>71.433333</td>\n",
       "    </tr>\n",
       "    <tr>\n",
       "      <th>2021-12-01</th>\n",
       "      <td>2</td>\n",
       "      <td>1411.344516</td>\n",
       "      <td>92.730645</td>\n",
       "      <td>65.709677</td>\n",
       "    </tr>\n",
       "    <tr>\n",
       "      <th>2022-01-01</th>\n",
       "      <td>1</td>\n",
       "      <td>1380.308387</td>\n",
       "      <td>103.122258</td>\n",
       "      <td>54.645161</td>\n",
       "    </tr>\n",
       "    <tr>\n",
       "      <th>2022-02-01</th>\n",
       "      <td>1</td>\n",
       "      <td>1389.564286</td>\n",
       "      <td>53.991429</td>\n",
       "      <td>24.857143</td>\n",
       "    </tr>\n",
       "  </tbody>\n",
       "</table>\n",
       "<p>230 rows × 4 columns</p>\n",
       "</div>"
      ],
      "text/plain": [
       "            Festivos_intersemanales    Plantilla  Plantilla_de_baja  \\\n",
       "date                                                                  \n",
       "2003-01-01                        2   861.654839          58.322581   \n",
       "2003-02-01                        1   847.775357          63.000000   \n",
       "2003-03-01                        0   857.704194          69.477419   \n",
       "2003-04-01                        2   869.806667          70.153333   \n",
       "2003-05-01                        1   855.794839          61.032258   \n",
       "...                             ...          ...                ...   \n",
       "2021-10-01                        1  1417.836129          65.073548   \n",
       "2021-11-01                        1  1412.164000          65.600333   \n",
       "2021-12-01                        2  1411.344516          92.730645   \n",
       "2022-01-01                        1  1380.308387         103.122258   \n",
       "2022-02-01                        1  1389.564286          53.991429   \n",
       "\n",
       "            busquedas_google  \n",
       "date                          \n",
       "2003-01-01         16.799731  \n",
       "2003-02-01         29.345238  \n",
       "2003-03-01         17.731183  \n",
       "2003-04-01         11.233333  \n",
       "2003-05-01         10.311828  \n",
       "...                      ...  \n",
       "2021-10-01         60.000000  \n",
       "2021-11-01         71.433333  \n",
       "2021-12-01         65.709677  \n",
       "2022-01-01         54.645161  \n",
       "2022-02-01         24.857143  \n",
       "\n",
       "[230 rows x 4 columns]"
      ]
     },
     "execution_count": 16,
     "metadata": {},
     "output_type": "execute_result"
    }
   ],
   "source": [
    "ts"
   ]
  },
  {
   "cell_type": "code",
   "execution_count": 17,
   "id": "77bc4a4b",
   "metadata": {},
   "outputs": [],
   "source": [
    "endogena_hist=ts[['Plantilla_de_baja']]\n",
    "exogenas_hist=ts[['Plantilla','busquedas_google','Festivos_intersemanales']]"
   ]
  },
  {
   "cell_type": "code",
   "execution_count": 18,
   "id": "7dd73606",
   "metadata": {},
   "outputs": [
    {
     "name": "stderr",
     "output_type": "stream",
     "text": [
      "C:\\Users\\carlo\\anaconda3\\lib\\site-packages\\statsmodels\\tsa\\base\\tsa_model.py:536: ValueWarning: No frequency information was provided, so inferred frequency MS will be used.\n",
      "  warnings.warn('No frequency information was'\n",
      "C:\\Users\\carlo\\anaconda3\\lib\\site-packages\\statsmodels\\tsa\\statespace\\sarimax.py:1009: UserWarning: Non-invertible starting seasonal moving average Using zeros as starting parameters.\n",
      "  warn('Non-invertible starting seasonal moving average'\n"
     ]
    }
   ],
   "source": [
    "#Obtenemos modelo SARIMAX con parámetros obtenidos\n",
    "params = modelo_enfermeria_arima.order \n",
    "sparams = modelo_enfermeria_arima.order+(12,) \n",
    "#freq MS quiere decir frecuencia mensual\n",
    "smodel = SARIMAX(endogena_hist, \n",
    "                order=params,\n",
    "                exog=exogenas_hist,\n",
    "                seasonal_order=sparams, \n",
    "                freq='MS'\n",
    "                )\n",
    "results=smodel.fit(maxiter=1000)"
   ]
  },
  {
   "cell_type": "markdown",
   "id": "1561b1c5",
   "metadata": {},
   "source": [
    "### Hago predicción a futuro"
   ]
  },
  {
   "cell_type": "code",
   "execution_count": 19,
   "id": "a07445b4",
   "metadata": {},
   "outputs": [],
   "source": [
    "#Obtengo predicciónes y intervalos de confianza\n",
    "y_pred_inf=results.get_prediction(start='2022-03-01',end='2022-12-01',exog=exogenos)\n",
    "y_pred_media=results.get_prediction(start='2022-03-01',end='2022-12-01',exog=exogenos).predicted_mean\n",
    "intervalos=y_pred_inf.conf_int()"
   ]
  },
  {
   "cell_type": "code",
   "execution_count": 20,
   "id": "018bfe0d",
   "metadata": {},
   "outputs": [],
   "source": [
    "from cycler import cycler\n",
    "colors= cycler(color=['#44c5c8', '#67d1d3', '#8ddcde', '#baeaea', '#ebf9f9','#434343'])\n",
    "plt.rcParams['axes.prop_cycle'] =colors"
   ]
  },
  {
   "cell_type": "code",
   "execution_count": 21,
   "id": "479e7e7e",
   "metadata": {},
   "outputs": [
    {
     "data": {
      "text/plain": [
       "<matplotlib.collections.PolyCollection at 0x20c2fba1a00>"
      ]
     },
     "execution_count": 21,
     "metadata": {},
     "output_type": "execute_result"
    },
    {
     "data": {
      "image/png": "[encoded data removed]",
      "text/plain": [
       "<Figure size 1080x432 with 1 Axes>"
      ]
     },
     "metadata": {
      "needs_background": "light"
     },
     "output_type": "display_data"
    }
   ],
   "source": [
    "#Dibujo las resultados con intérvalo de confianza\n",
    "plt.rcParams['figure.figsize']=(15,6)\n",
    "ds=y_pred_media.reset_index()\n",
    "#data\n",
    "x = ds['index']\n",
    "y = ds['predicted_mean']\n",
    "#confidence interval\n",
    "ci_low=intervalos['lower Plantilla_de_baja']\n",
    "ci_upp=intervalos['upper Plantilla_de_baja']\n",
    "fig, ax = plt.subplots()\n",
    "ax.plot(x,y)\n",
    "for i,j in zip(x,y):\n",
    "\n",
    "    label = \"{:.2f}\".format(j)\n",
    "\n",
    "    plt.annotate(label, # this is the text\n",
    "                 (i,j), # these are the coordinates to position the label\n",
    "                 textcoords=\"offset points\", # how to position the text\n",
    "                 xytext=(0,10), # distance from text to points (x,y)\n",
    "                 ha='center') # horizontal alignment can be left, right or center)\n",
    "ax.fill_between(x, ci_low, ci_upp, color='#8ddcde', alpha=.1)"
   ]
  },
  {
   "cell_type": "code",
   "execution_count": 22,
   "id": "e1ba4b61",
   "metadata": {},
   "outputs": [
    {
     "data": {
      "text/plain": [
       "674.6458313441874"
      ]
     },
     "execution_count": 22,
     "metadata": {},
     "output_type": "execute_result"
    }
   ],
   "source": [
    "y_pred_media.sum()"
   ]
  },
  {
   "cell_type": "code",
   "execution_count": 23,
   "id": "1afa91ee",
   "metadata": {},
   "outputs": [
    {
     "data": {
      "text/html": [
       "<div>\n",
       "<style scoped>\n",
       "    .dataframe tbody tr th:only-of-type {\n",
       "        vertical-align: middle;\n",
       "    }\n",
       "\n",
       "    .dataframe tbody tr th {\n",
       "        vertical-align: top;\n",
       "    }\n",
       "\n",
       "    .dataframe thead th {\n",
       "        text-align: right;\n",
       "    }\n",
       "</style>\n",
       "<table border=\"1\" class=\"dataframe\">\n",
       "  <thead>\n",
       "    <tr style=\"text-align: right;\">\n",
       "      <th></th>\n",
       "      <th>lower Plantilla_de_baja</th>\n",
       "      <th>upper Plantilla_de_baja</th>\n",
       "    </tr>\n",
       "  </thead>\n",
       "  <tbody>\n",
       "    <tr>\n",
       "      <th>2022-03-01</th>\n",
       "      <td>43.837506</td>\n",
       "      <td>73.212676</td>\n",
       "    </tr>\n",
       "    <tr>\n",
       "      <th>2022-04-01</th>\n",
       "      <td>54.266633</td>\n",
       "      <td>98.508757</td>\n",
       "    </tr>\n",
       "    <tr>\n",
       "      <th>2022-05-01</th>\n",
       "      <td>46.683989</td>\n",
       "      <td>94.820035</td>\n",
       "    </tr>\n",
       "    <tr>\n",
       "      <th>2022-06-01</th>\n",
       "      <td>39.443990</td>\n",
       "      <td>89.246825</td>\n",
       "    </tr>\n",
       "    <tr>\n",
       "      <th>2022-07-01</th>\n",
       "      <td>37.042704</td>\n",
       "      <td>88.355469</td>\n",
       "    </tr>\n",
       "    <tr>\n",
       "      <th>2022-08-01</th>\n",
       "      <td>31.077035</td>\n",
       "      <td>83.416333</td>\n",
       "    </tr>\n",
       "    <tr>\n",
       "      <th>2022-09-01</th>\n",
       "      <td>37.325826</td>\n",
       "      <td>91.026395</td>\n",
       "    </tr>\n",
       "    <tr>\n",
       "      <th>2022-10-01</th>\n",
       "      <td>42.764916</td>\n",
       "      <td>97.501494</td>\n",
       "    </tr>\n",
       "    <tr>\n",
       "      <th>2022-11-01</th>\n",
       "      <td>45.081066</td>\n",
       "      <td>101.070076</td>\n",
       "    </tr>\n",
       "    <tr>\n",
       "      <th>2022-12-01</th>\n",
       "      <td>48.795278</td>\n",
       "      <td>105.814660</td>\n",
       "    </tr>\n",
       "  </tbody>\n",
       "</table>\n",
       "</div>"
      ],
      "text/plain": [
       "            lower Plantilla_de_baja  upper Plantilla_de_baja\n",
       "2022-03-01                43.837506                73.212676\n",
       "2022-04-01                54.266633                98.508757\n",
       "2022-05-01                46.683989                94.820035\n",
       "2022-06-01                39.443990                89.246825\n",
       "2022-07-01                37.042704                88.355469\n",
       "2022-08-01                31.077035                83.416333\n",
       "2022-09-01                37.325826                91.026395\n",
       "2022-10-01                42.764916                97.501494\n",
       "2022-11-01                45.081066               101.070076\n",
       "2022-12-01                48.795278               105.814660"
      ]
     },
     "execution_count": 23,
     "metadata": {},
     "output_type": "execute_result"
    }
   ],
   "source": [
    "intervalos"
   ]
  },
  {
   "cell_type": "markdown",
   "id": "39cba6de",
   "metadata": {},
   "source": [
    "## Obtener coste medio mensual por sustitución enfermera/o"
   ]
  },
  {
   "cell_type": "code",
   "execution_count": 24,
   "id": "7e8b993c",
   "metadata": {},
   "outputs": [],
   "source": [
    "#Valor de tabla retributiva 2022 para DUI de nivel 2:\n",
    "#coste_mensual_bruto=1071.06+528.7+620.91+(781.15+528.7+620.91)/6\n",
    "#No se tiene en cuenta importes de antiguedad como la carrera profesional y triennios ni atención continuada"
   ]
  },
  {
   "cell_type": "code",
   "execution_count": 25,
   "id": "a39f0f68",
   "metadata": {},
   "outputs": [],
   "source": [
    "coste_mensual_bruto=2513.58"
   ]
  },
  {
   "cell_type": "code",
   "execution_count": 26,
   "id": "7b5fac3a",
   "metadata": {},
   "outputs": [],
   "source": [
    "inf=y_pred_media.to_frame(name='plantilla_it')"
   ]
  },
  {
   "cell_type": "code",
   "execution_count": 27,
   "id": "bf9218a0",
   "metadata": {},
   "outputs": [],
   "source": [
    "inf['coste_mensual']=inf*coste_mensual_bruto"
   ]
  },
  {
   "cell_type": "code",
   "execution_count": 28,
   "id": "c92e0c79",
   "metadata": {},
   "outputs": [
    {
     "data": {
      "text/html": [
       "<div>\n",
       "<style scoped>\n",
       "    .dataframe tbody tr th:only-of-type {\n",
       "        vertical-align: middle;\n",
       "    }\n",
       "\n",
       "    .dataframe tbody tr th {\n",
       "        vertical-align: top;\n",
       "    }\n",
       "\n",
       "    .dataframe thead th {\n",
       "        text-align: right;\n",
       "    }\n",
       "</style>\n",
       "<table border=\"1\" class=\"dataframe\">\n",
       "  <thead>\n",
       "    <tr style=\"text-align: right;\">\n",
       "      <th></th>\n",
       "      <th>plantilla_it</th>\n",
       "      <th>coste_mensual</th>\n",
       "    </tr>\n",
       "  </thead>\n",
       "  <tbody>\n",
       "    <tr>\n",
       "      <th>2022-03-01</th>\n",
       "      <td>58.525091</td>\n",
       "      <td>147107.498207</td>\n",
       "    </tr>\n",
       "    <tr>\n",
       "      <th>2022-04-01</th>\n",
       "      <td>76.387695</td>\n",
       "      <td>192006.582259</td>\n",
       "    </tr>\n",
       "    <tr>\n",
       "      <th>2022-05-01</th>\n",
       "      <td>70.752012</td>\n",
       "      <td>177840.841298</td>\n",
       "    </tr>\n",
       "    <tr>\n",
       "      <th>2022-06-01</th>\n",
       "      <td>64.345407</td>\n",
       "      <td>161737.329328</td>\n",
       "    </tr>\n",
       "    <tr>\n",
       "      <th>2022-07-01</th>\n",
       "      <td>62.699087</td>\n",
       "      <td>157599.170300</td>\n",
       "    </tr>\n",
       "    <tr>\n",
       "      <th>2022-08-01</th>\n",
       "      <td>57.246684</td>\n",
       "      <td>143894.120274</td>\n",
       "    </tr>\n",
       "    <tr>\n",
       "      <th>2022-09-01</th>\n",
       "      <td>64.176110</td>\n",
       "      <td>161311.787496</td>\n",
       "    </tr>\n",
       "    <tr>\n",
       "      <th>2022-10-01</th>\n",
       "      <td>70.133205</td>\n",
       "      <td>176285.422384</td>\n",
       "    </tr>\n",
       "    <tr>\n",
       "      <th>2022-11-01</th>\n",
       "      <td>73.075571</td>\n",
       "      <td>183681.293221</td>\n",
       "    </tr>\n",
       "    <tr>\n",
       "      <th>2022-12-01</th>\n",
       "      <td>77.304969</td>\n",
       "      <td>194312.223983</td>\n",
       "    </tr>\n",
       "  </tbody>\n",
       "</table>\n",
       "</div>"
      ],
      "text/plain": [
       "            plantilla_it  coste_mensual\n",
       "2022-03-01     58.525091  147107.498207\n",
       "2022-04-01     76.387695  192006.582259\n",
       "2022-05-01     70.752012  177840.841298\n",
       "2022-06-01     64.345407  161737.329328\n",
       "2022-07-01     62.699087  157599.170300\n",
       "2022-08-01     57.246684  143894.120274\n",
       "2022-09-01     64.176110  161311.787496\n",
       "2022-10-01     70.133205  176285.422384\n",
       "2022-11-01     73.075571  183681.293221\n",
       "2022-12-01     77.304969  194312.223983"
      ]
     },
     "execution_count": 28,
     "metadata": {},
     "output_type": "execute_result"
    }
   ],
   "source": [
    "inf"
   ]
  },
  {
   "cell_type": "markdown",
   "id": "553cccbf",
   "metadata": {},
   "source": [
    "## Calcular cobertura a partir de coste_medio_mensual, previsión de plantilla de baja y crédito presupuestario"
   ]
  },
  {
   "cell_type": "code",
   "execution_count": 29,
   "id": "4cebe261",
   "metadata": {},
   "outputs": [],
   "source": [
    "inf_cobertura_total=inf['coste_mensual'].sum()"
   ]
  },
  {
   "cell_type": "code",
   "execution_count": 30,
   "id": "a16007dd",
   "metadata": {},
   "outputs": [
    {
     "data": {
      "text/plain": [
       "1695776.2687501225"
      ]
     },
     "execution_count": 30,
     "metadata": {},
     "output_type": "execute_result"
    }
   ],
   "source": [
    "inf_cobertura_total"
   ]
  },
  {
   "cell_type": "code",
   "execution_count": 31,
   "id": "1b2a781e",
   "metadata": {},
   "outputs": [
    {
     "data": {
      "text/plain": [
       "28586772.47"
      ]
     },
     "execution_count": 31,
     "metadata": {},
     "output_type": "execute_result"
    }
   ],
   "source": [
    "#Credito inicial en bolsa de substituciones/eventuales para Hospital Germans Trias i Pujol 2022:\n",
    "Importe_inicial=7879362.4+7930089.1\n",
    "Exceso_permitido=12777320.97\n",
    "credito_habilitado_2022=Importe_inicial+Exceso_permitido\n",
    "credito_habilitado_2022"
   ]
  },
  {
   "cell_type": "code",
   "execution_count": 32,
   "id": "c1e3ca02",
   "metadata": {},
   "outputs": [],
   "source": [
    "#Gasto acumulado en subtituciones/eventuales\n",
    "#gasto_enero\n",
    "#gasto_febrero\n",
    "gasto_en_substituciones_event_acum=4194367.95\n",
    "gasto_anual_en_programas=18320654.35-gasto_en_substituciones_event_acum\n"
   ]
  },
  {
   "cell_type": "code",
   "execution_count": 33,
   "id": "b7c75bba",
   "metadata": {},
   "outputs": [
    {
     "data": {
      "text/plain": [
       "10266118.119999997"
      ]
     },
     "execution_count": 33,
     "metadata": {},
     "output_type": "execute_result"
    }
   ],
   "source": [
    "\n",
    "credito_disponible=credito_habilitado_2022-gasto_en_substituciones_event_acum-gasto_anual_en_programas\n",
    "\n",
    "credito_disponible"
   ]
  },
  {
   "cell_type": "code",
   "execution_count": 34,
   "id": "08d83e90",
   "metadata": {},
   "outputs": [
    {
     "data": {
      "text/plain": [
       "6844078.746666665"
      ]
     },
     "execution_count": 34,
     "metadata": {},
     "output_type": "execute_result"
    }
   ],
   "source": [
    "credito_disponible_su=credito_disponible*2/3 #2 tercios se reserva para sustituciones, el resto para refuerzos\n",
    "credito_disponible_su"
   ]
  },
  {
   "cell_type": "code",
   "execution_count": 35,
   "id": "b8925416",
   "metadata": {},
   "outputs": [],
   "source": [
    "#credito_disponible_su=credito_disponible*0.5 \n",
    "#el resto va para programas (25%), cobertura vacaciones (13%) y refuerzos (12%)\n"
   ]
  },
  {
   "attachments": {
    "image.png": {
     "image/png": "[encoded data removed]"
    }
   },
   "cell_type": "markdown",
   "id": "787fddeb",
   "metadata": {},
   "source": [
    "![image.png](attachment:image.png)"
   ]
  },
  {
   "cell_type": "code",
   "execution_count": 36,
   "id": "d60e111b",
   "metadata": {},
   "outputs": [],
   "source": [
    "credito_disponible_su_it=credito_disponible_su*0.69\n",
    "#el resto va para sustituciones de bajas maternales (10%) y reducciones de jornadas (21%)"
   ]
  },
  {
   "cell_type": "code",
   "execution_count": 37,
   "id": "8722058b",
   "metadata": {},
   "outputs": [],
   "source": [
    "credito_disponible_su_it_enfermeras=credito_disponible_su_it*0.40\n",
    "#El 36% porque es la propoción media de personal enfermero de baja en el histórico"
   ]
  },
  {
   "cell_type": "code",
   "execution_count": 38,
   "id": "ccab8b37",
   "metadata": {},
   "outputs": [
    {
     "data": {
      "text/plain": [
       "1695776.2687501225"
      ]
     },
     "execution_count": 38,
     "metadata": {},
     "output_type": "execute_result"
    }
   ],
   "source": [
    "inf_cobertura_total"
   ]
  },
  {
   "cell_type": "code",
   "execution_count": 39,
   "id": "398b6f79",
   "metadata": {},
   "outputs": [
    {
     "data": {
      "text/plain": [
       "1888965.7340799996"
      ]
     },
     "execution_count": 39,
     "metadata": {},
     "output_type": "execute_result"
    }
   ],
   "source": [
    "credito_disponible_su_it_enfermeras"
   ]
  },
  {
   "cell_type": "code",
   "execution_count": 40,
   "id": "20d0b1d2",
   "metadata": {},
   "outputs": [
    {
     "data": {
      "text/plain": [
       "1.1139239113614132"
      ]
     },
     "execution_count": 40,
     "metadata": {},
     "output_type": "execute_result"
    }
   ],
   "source": [
    "Cobertura_permitida=credito_disponible_su_it_enfermeras/inf_cobertura_total\n",
    "Cobertura_permitida"
   ]
  },
  {
   "cell_type": "code",
   "execution_count": 41,
   "id": "6713d921",
   "metadata": {},
   "outputs": [
    {
     "data": {
      "text/plain": [
       "'Con el crédito disponible de 1,888,965.73 € se pueden cubrir el 111% de las bajas por IT previstas hasta final de año'"
      ]
     },
     "execution_count": 41,
     "metadata": {},
     "output_type": "execute_result"
    }
   ],
   "source": [
    "f'Con el crédito disponible de {credito_disponible_su_it_enfermeras:3,.2f} € se pueden cubrir el {Cobertura_permitida:.0%} de las bajas por IT previstas hasta final de año'"
   ]
  },
  {
   "cell_type": "code",
   "execution_count": 42,
   "id": "b5295b0d",
   "metadata": {},
   "outputs": [],
   "source": [
    "#formula para saber la ampliación o reducción de crédito necesária para cubrir X% de bajas\n",
    "def estado_credito_SU(cobertura_deseada):\n",
    "    '''cobretura expresada en %'''\n",
    "    credito_necesario=inf_cobertura_total*cobertura_deseada/100\n",
    "    saldo=credito_disponible_su_it_enfermeras-credito_necesario\n",
    "    if saldo>0:\n",
    "        return f'Se estima que sobrará {saldo:3,.2f} € en la bolsa de substituciones en IT para el colectivo de enfermeras a final de año.'\n",
    "    else:\n",
    "        return f'Se estima que faltará {-saldo:3,.2f} € en la bolsa de substituciones en IT para el colectivo de enfermeras a final de año.'\n"
   ]
  },
  {
   "cell_type": "code",
   "execution_count": 43,
   "id": "612d71c2",
   "metadata": {},
   "outputs": [
    {
     "data": {
      "text/plain": [
       "'Se estima que sobrará 193,189.47 € en la bolsa de substituciones en IT para el colectivo de enfermeras a final de año.'"
      ]
     },
     "execution_count": 43,
     "metadata": {},
     "output_type": "execute_result"
    }
   ],
   "source": [
    "estado_credito_SU(100)"
   ]
  },
  {
   "cell_type": "code",
   "execution_count": null,
   "id": "d631ec0b",
   "metadata": {},
   "outputs": [],
   "source": []
  }
 ],
 "metadata": {
  "kernelspec": {
   "display_name": "Python 3",
   "language": "python",
   "name": "python3"
  },
  "language_info": {
   "codemirror_mode": {
    "name": "ipython",
    "version": 3
   },
   "file_extension": ".py",
   "mimetype": "text/x-python",
   "name": "python",
   "nbconvert_exporter": "python",
   "pygments_lexer": "ipython3",
   "version": "3.8.8"
  },
  "toc": {
   "base_numbering": 1,
   "nav_menu": {},
   "number_sections": true,
   "sideBar": true,
   "skip_h1_title": false,
   "title_cell": "Table of Contents",
   "title_sidebar": "Contents",
   "toc_cell": false,
   "toc_position": {},
   "toc_section_display": true,
   "toc_window_display": false
  },
  "varInspector": {
   "cols": {
    "lenName": 16,
    "lenType": 16,
    "lenVar": 40
   },
   "kernels_config": {
    "python": {
     "delete_cmd_postfix": "",
     "delete_cmd_prefix": "del ",
     "library": "var_list.py",
     "varRefreshCmd": "print(var_dic_list())"
    },
    "r": {
     "delete_cmd_postfix": ") ",
     "delete_cmd_prefix": "rm(",
     "library": "var_list.r",
     "varRefreshCmd": "cat(var_dic_list()) "
    }
   },
   "types_to_exclude": [
    "module",
    "function",
    "builtin_function_or_method",
    "instance",
    "_Feature"
   ],
   "window_display": false
  }
 },
 "nbformat": 4,
 "nbformat_minor": 5
}
